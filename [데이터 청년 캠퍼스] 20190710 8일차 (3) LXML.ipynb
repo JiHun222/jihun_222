{
 "cells": [
  {
   "cell_type": "markdown",
   "metadata": {},
   "source": [
    "# lxml\n",
    "**the most feature-rich and easy-to-use library for processing XML and HTML in the Python language**\n",
    "- C 언어를 기반으로만들어짐"
   ]
  },
  {
   "cell_type": "markdown",
   "metadata": {},
   "source": [
    "## Element\n",
    "- this function returns an object implementing the Element interface\n",
    "#### SubElement\n",
    "- creates an element instance, and appends it to an existing element"
   ]
  },
  {
   "cell_type": "code",
   "execution_count": 2,
   "metadata": {},
   "outputs": [],
   "source": [
    "import xml.etree.ElementTree as et\n",
    "from lxml import etree"
   ]
  },
  {
   "cell_type": "code",
   "execution_count": 3,
   "metadata": {},
   "outputs": [],
   "source": [
    "bookStore = etree.Element(\"bookstore\")"
   ]
  },
  {
   "cell_type": "code",
   "execution_count": 5,
   "metadata": {},
   "outputs": [],
   "source": [
    "book1 = etree.SubElement(bookStore, \"book\")\n",
    "book2 = etree.SubElement(bookStore, \"book\", attrib={\"category\":\"children\"})"
   ]
  },
  {
   "cell_type": "code",
   "execution_count": 6,
   "metadata": {},
   "outputs": [],
   "source": [
    "book1.attrib[\"category\"] = \"cooking\""
   ]
  },
  {
   "cell_type": "code",
   "execution_count": 7,
   "metadata": {},
   "outputs": [],
   "source": [
    "title1 = etree.Element(\"title\", lang=\"en\")\n",
    "title1.text = \"Everyday Italian\"\n",
    "book1.append(title1)"
   ]
  },
  {
   "cell_type": "code",
   "execution_count": 8,
   "metadata": {},
   "outputs": [],
   "source": [
    "etree.SubElement(book1, \"author\").text = \"Giada De Laurentils\"\n",
    "etree.SubElement(book1, \"year\").text = \"2005\"\n",
    "etree.SubElement(book1, \"price\").text = \"30.00\""
   ]
  },
  {
   "cell_type": "code",
   "execution_count": 9,
   "metadata": {},
   "outputs": [],
   "source": [
    "title2 = etree.Element(\"title\")\n",
    "title2.set(\"lang\", title1.get(\"lang\"))\n",
    "title2.text = \"Harry Potter\"\n",
    "book2.append(title2)"
   ]
  },
  {
   "cell_type": "code",
   "execution_count": 10,
   "metadata": {},
   "outputs": [],
   "source": [
    "etree.SubElement(book2, \"author\").text = \"Giada De Laurentils\"\n",
    "etree.SubElement(book2, \"year\").text = \"2005\"\n",
    "book2.insert(3, etree.Element(\"price\"))"
   ]
  },
  {
   "cell_type": "code",
   "execution_count": 11,
   "metadata": {},
   "outputs": [
    {
     "name": "stdout",
     "output_type": "stream",
     "text": [
      "4\n"
     ]
    }
   ],
   "source": [
    "print(len(book2))\n",
    "book2[-1].text = \"30.00\""
   ]
  },
  {
   "cell_type": "code",
   "execution_count": 12,
   "metadata": {},
   "outputs": [
    {
     "name": "stdout",
     "output_type": "stream",
     "text": [
      "<class 'bytes'> <class 'str'>\n",
      "<bookstore>\n",
      "  <book category=\"cooking\">\n",
      "    <title lang=\"en\">Everyday Italian</title>\n",
      "    <author>Giada De Laurentils</author>\n",
      "    <year>2005</year>\n",
      "    <price>30.00</price>\n",
      "  </book>\n",
      "  <book category=\"children\">\n",
      "    <title lang=\"en\">Harry Potter</title>\n",
      "    <author>Giada De Laurentils</author>\n",
      "    <year>2005</year>\n",
      "    <price>30.00</price>\n",
      "  </book>\n",
      "</bookstore>\n"
     ]
    }
   ],
   "source": [
    "xmlBytes = etree.tostring(bookStore, encoding=\"utf-8\", pretty_print=True, xml_declaration=True)\n",
    "xmlStr = etree.tounicode(bookStore, pretty_print=True)\n",
    "print(type(xmlBytes),type(xmlStr))\n",
    "etree.dump(bookStore)"
   ]
  },
  {
   "cell_type": "markdown",
   "metadata": {},
   "source": [
    "## Parsing"
   ]
  },
  {
   "cell_type": "code",
   "execution_count": 14,
   "metadata": {},
   "outputs": [],
   "source": [
    "xml = etree.XML(etree.tostring(bookStore))\n",
    "xmlTree = etree.ElementTree(xml)\n",
    "xmlRoot = xmlTree.getroot()"
   ]
  },
  {
   "cell_type": "code",
   "execution_count": 15,
   "metadata": {},
   "outputs": [
    {
     "name": "stdout",
     "output_type": "stream",
     "text": [
      "1.0\n",
      "UTF-8\n",
      "bookstore\n",
      "2\n",
      "book {'category': 'cooking'}\n",
      "book {'category': 'children'}\n"
     ]
    }
   ],
   "source": [
    "print(xmlTree.docinfo.xml_version)\n",
    "print(xmlTree.docinfo.encoding)\n",
    "print(xmlTree.docinfo.root_name)\n",
    "\n",
    "print(len(xmlRoot))\n",
    "for childNode in xmlRoot:\n",
    "    print(childNode.tag, childNode.attrib)"
   ]
  },
  {
   "cell_type": "code",
   "execution_count": null,
   "metadata": {},
   "outputs": [],
   "source": []
  },
  {
   "cell_type": "code",
   "execution_count": null,
   "metadata": {},
   "outputs": [],
   "source": []
  },
  {
   "cell_type": "code",
   "execution_count": null,
   "metadata": {},
   "outputs": [],
   "source": []
  },
  {
   "cell_type": "code",
   "execution_count": null,
   "metadata": {},
   "outputs": [],
   "source": []
  },
  {
   "cell_type": "code",
   "execution_count": null,
   "metadata": {},
   "outputs": [],
   "source": []
  },
  {
   "cell_type": "code",
   "execution_count": 16,
   "metadata": {},
   "outputs": [],
   "source": [
    "xmlTree.write(\"book_tree.xml\")\n",
    "etree.ElementTree(xmlRoot).write(\"book_root.xml\")"
   ]
  },
  {
   "cell_type": "code",
   "execution_count": 17,
   "metadata": {},
   "outputs": [
    {
     "name": "stdout",
     "output_type": "stream",
     "text": [
      "<bookstore>\n",
      "  <book category=\"cooking\">\n",
      "    <title lang=\"en\">Everyday Italian</title>\n",
      "    <author>Giada De Laurentils</author>\n",
      "    <year>2005</year>\n",
      "    <price>30.00</price>\n",
      "  </book>\n",
      "  <book category=\"children\">\n",
      "    <title lang=\"en\">Harry Potter</title>\n",
      "    <author>Giada De Laurentils</author>\n",
      "    <year>2005</year>\n",
      "    <price>30.00</price>\n",
      "  </book>\n",
      "</bookstore>\n",
      "<bookstore>\n",
      "  <book category=\"cooking\">\n",
      "    <title lang=\"en\">Everyday Italian</title>\n",
      "    <author>Giada De Laurentils</author>\n",
      "    <year>2005</year>\n",
      "    <price>30.00</price>\n",
      "  </book>\n",
      "  <book category=\"children\">\n",
      "    <title lang=\"en\">Harry Potter</title>\n",
      "    <author>Giada De Laurentils</author>\n",
      "    <year>2005</year>\n",
      "    <price>30.00</price>\n",
      "  </book>\n",
      "</bookstore>\n"
     ]
    }
   ],
   "source": [
    "xmlTree = etree.parse(\"book_tree.xml\")\n",
    "xmlRoot = xmlTree.getroot()\n",
    "\n",
    "etree.dump(xmlRoot)\n",
    "\n",
    "xmlTree =etree.parse(\"book_root.xml\")\n",
    "xmlRoot = xmlTree.getroot()\n",
    "\n",
    "etree.dump(xmlRoot)"
   ]
  },
  {
   "cell_type": "code",
   "execution_count": null,
   "metadata": {},
   "outputs": [],
   "source": []
  },
  {
   "cell_type": "code",
   "execution_count": 63,
   "metadata": {},
   "outputs": [],
   "source": [
    "import json\n",
    "import urllib.request\n"
   ]
  },
  {
   "cell_type": "code",
   "execution_count": 64,
   "metadata": {},
   "outputs": [],
   "source": [
    "\n",
    "url = \"http://openapi.airkorea.or.kr/openapi/services/rest/ArpltnInforInqireSvc/getUnityAirEnvrnIdexSnstiveAboveMsrstnList\"\n",
    "      \n"
   ]
  },
  {
   "cell_type": "code",
   "execution_count": 65,
   "metadata": {},
   "outputs": [],
   "source": [
    "params = {\n",
    "        \"serviceKey\" : \"IAuLRJv6H3XAdMqkRM%2BOouM7GEKstJUCrh7Bbw%2FDhO%2FRgFTc01JlMz%2Ff9AjWBtxS%2BRAVyxYAS9edDDAj31YOHw%3D%3D\",\n",
    "        \"numOfRows\":10,\n",
    "        \"pageSize\":10,\n",
    "        \"pageNo\":1,\n",
    "        \"sidoName\":\"서울\",\n",
    "        \"ver\":\"1.3\"\n",
    "}"
   ]
  },
  {
   "cell_type": "code",
   "execution_count": 66,
   "metadata": {},
   "outputs": [],
   "source": [
    "params[\"serviceKey\"] = urllib.parse.unquote(params[\"serviceKey\"])\n",
    "params = urllib.parse.urlencode(params)\n",
    "params = params.encode(\"utf-8\")\n",
    "    \n",
    "req = urllib.request.Request(url, data=params)\n",
    "res = urllib.request.urlopen(req)\n",
    "    \n",
    "resStr = res.read()\n",
    "resStr = resStr.decode(\"utf-8\")"
   ]
  },
  {
   "cell_type": "code",
   "execution_count": 67,
   "metadata": {},
   "outputs": [
    {
     "ename": "ValueError",
     "evalue": "Unicode strings with encoding declaration are not supported. Please use bytes input or XML fragments without declaration.",
     "output_type": "error",
     "traceback": [
      "\u001b[1;31m---------------------------------------------------------------------------\u001b[0m",
      "\u001b[1;31mValueError\u001b[0m                                Traceback (most recent call last)",
      "\u001b[1;32m<ipython-input-67-b0e2b983168f>\u001b[0m in \u001b[0;36m<module>\u001b[1;34m\u001b[0m\n\u001b[0;32m      1\u001b[0m \u001b[0mtype\u001b[0m\u001b[1;33m(\u001b[0m\u001b[0mresStr\u001b[0m\u001b[1;33m)\u001b[0m\u001b[1;33m\u001b[0m\u001b[1;33m\u001b[0m\u001b[0m\n\u001b[1;32m----> 2\u001b[1;33m \u001b[0mxml0bj\u001b[0m \u001b[1;33m=\u001b[0m \u001b[0metree\u001b[0m\u001b[1;33m.\u001b[0m\u001b[0mfromstring\u001b[0m\u001b[1;33m(\u001b[0m\u001b[0mresStr\u001b[0m\u001b[1;33m)\u001b[0m\u001b[1;33m\u001b[0m\u001b[1;33m\u001b[0m\u001b[0m\n\u001b[0m\u001b[0;32m      3\u001b[0m \u001b[0mxmlRoot\u001b[0m \u001b[1;33m=\u001b[0m \u001b[0metree\u001b[0m\u001b[1;33m.\u001b[0m\u001b[0mElementTree\u001b[0m\u001b[1;33m(\u001b[0m\u001b[0mxml0bj\u001b[0m\u001b[1;33m)\u001b[0m\u001b[1;33m.\u001b[0m\u001b[0mgetroot\u001b[0m\u001b[1;33m(\u001b[0m\u001b[1;33m)\u001b[0m\u001b[1;33m\u001b[0m\u001b[1;33m\u001b[0m\u001b[0m\n",
      "\u001b[1;32msrc/lxml/etree.pyx\u001b[0m in \u001b[0;36mlxml.etree.fromstring\u001b[1;34m()\u001b[0m\n",
      "\u001b[1;32msrc/lxml/parser.pxi\u001b[0m in \u001b[0;36mlxml.etree._parseMemoryDocument\u001b[1;34m()\u001b[0m\n",
      "\u001b[1;31mValueError\u001b[0m: Unicode strings with encoding declaration are not supported. Please use bytes input or XML fragments without declaration."
     ]
    }
   ],
   "source": [
    "xml0bj = etree.fromstring(resStr)\n",
    "xmlRoot = etree.ElementTree(xml0bj).getroot()"
   ]
  },
  {
   "cell_type": "code",
   "execution_count": 56,
   "metadata": {},
   "outputs": [
    {
     "name": "stdout",
     "output_type": "stream",
     "text": [
      "<response>\n",
      "\t<header>\n",
      "\t\t<resultCode>00</resultCode>\n",
      "\t\t<resultMsg>NORMAL SERVICE.</resultMsg>\n",
      "\t</header>\n",
      "\t<body>\n",
      "\t\t<items>\n",
      "\t\t\t\n",
      "\t\t</items>\n",
      "\t\t\t<numOfRows>10</numOfRows>\n",
      "\t\t\t<pageNo>1</pageNo>\n",
      "\t\t\t<totalCount>0</totalCount>\n",
      "\t</body>\n",
      "</response>\n"
     ]
    }
   ],
   "source": [
    "etree.dump(xmlRoot)"
   ]
  },
  {
   "cell_type": "code",
   "execution_count": 46,
   "metadata": {},
   "outputs": [
    {
     "name": "stdout",
     "output_type": "stream",
     "text": [
      "response \n",
      "\t\n",
      "header \n",
      "\t\t\n",
      "resultCode 00\n",
      "resultMsg NORMAL SERVICE.\n",
      "body \n",
      "\t\t\n",
      "items \n",
      "\t\t\t\n",
      "\t\t\n",
      "numOfRows 10\n",
      "pageNo 1\n",
      "totalCount 0\n"
     ]
    }
   ],
   "source": [
    "for node in xmlRoot.iter():\n",
    "    print(node.tag, node.text)"
   ]
  },
  {
   "cell_type": "code",
   "execution_count": 50,
   "metadata": {},
   "outputs": [],
   "source": [
    "itemList = xmlRoot.findall(\".//item\")"
   ]
  },
  {
   "cell_type": "code",
   "execution_count": 49,
   "metadata": {},
   "outputs": [
    {
     "name": "stdout",
     "output_type": "stream",
     "text": [
      "0\n"
     ]
    }
   ],
   "source": [
    "print(len(itemList))\n",
    "for item in itemList:\n",
    "    for i in range(len(item)):\n",
    "        print(item[i].tag, item[i].text)\n"
   ]
  },
  {
   "cell_type": "code",
   "execution_count": 37,
   "metadata": {},
   "outputs": [],
   "source": [
    "pm25List = xmlRoot.findall(\".//item/pm25Value\")"
   ]
  },
  {
   "cell_type": "code",
   "execution_count": 38,
   "metadata": {},
   "outputs": [],
   "source": [
    "for item in pm25List:\n",
    "    print(item.tag, item.text)"
   ]
  },
  {
   "cell_type": "code",
   "execution_count": null,
   "metadata": {},
   "outputs": [],
   "source": []
  }
 ],
 "metadata": {
  "kernelspec": {
   "display_name": "Python 3",
   "language": "python",
   "name": "python3"
  },
  "language_info": {
   "codemirror_mode": {
    "name": "ipython",
    "version": 3
   },
   "file_extension": ".py",
   "mimetype": "text/x-python",
   "name": "python",
   "nbconvert_exporter": "python",
   "pygments_lexer": "ipython3",
   "version": "3.7.1"
  }
 },
 "nbformat": 4,
 "nbformat_minor": 2
}
