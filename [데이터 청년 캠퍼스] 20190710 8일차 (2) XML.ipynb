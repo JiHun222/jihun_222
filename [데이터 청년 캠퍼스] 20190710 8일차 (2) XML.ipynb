{
 "cells": [
  {
   "cell_type": "markdown",
   "metadata": {},
   "source": [
    "# XML\n",
    "- 모든 것들을 내가 만들어야 함\n",
    "- 데이터를 주고받기 위해 만든 용도\n",
    "- human도 machine도 읽을 수 있다\n",
    "- 무한히 확장 가능"
   ]
  },
  {
   "cell_type": "markdown",
   "metadata": {},
   "source": [
    "## why use XML\n",
    "    - universally accepted standard way of structing data\n",
    "    - provides a well-definied structure for communication\n",
    "    - software- and hardware-independent tool for storing and transporting data"
   ]
  },
  {
   "cell_type": "markdown",
   "metadata": {},
   "source": [
    "### Text-based(unicode)\n",
    "### No predefinied tags\n",
    "### Extensible\n",
    "### Validity"
   ]
  },
  {
   "cell_type": "markdown",
   "metadata": {},
   "source": [
    "- documents must have a root element\n",
    "- must haver a closing tag\n",
    "- tags are case sensitive\n",
    "- elements must be properly nested\n",
    "- attribute values must be quoted"
   ]
  },
  {
   "cell_type": "code",
   "execution_count": null,
   "metadata": {},
   "outputs": [],
   "source": []
  }
 ],
 "metadata": {
  "kernelspec": {
   "display_name": "Python 3",
   "language": "python",
   "name": "python3"
  },
  "language_info": {
   "codemirror_mode": {
    "name": "ipython",
    "version": 3
   },
   "file_extension": ".py",
   "mimetype": "text/x-python",
   "name": "python",
   "nbconvert_exporter": "python",
   "pygments_lexer": "ipython3",
   "version": "3.7.1"
  }
 },
 "nbformat": 4,
 "nbformat_minor": 2
}
