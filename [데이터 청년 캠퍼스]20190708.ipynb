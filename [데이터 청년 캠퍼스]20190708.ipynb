{
 "cells": [
  {
   "cell_type": "markdown",
   "metadata": {},
   "source": [
    "# 빅데이터\n",
    "---"
   ]
  },
  {
   "cell_type": "markdown",
   "metadata": {},
   "source": [
    "**빅데이터의 3V**\n",
    "- Volume (양)\n",
    "- Velocity (속도)\n",
    "- Variety (다양성)\n",
    "\n",
    "**데이터의 종류**\n",
    "- Structure data\n",
    "- Semi-structure data\n",
    "- unconstructed data"
   ]
  },
  {
   "cell_type": "markdown",
   "metadata": {},
   "source": [
    "## DBMS\n",
    "---\n",
    "### 데이터베이스 개요\n",
    "- 80%의 Unstructed data(비정형)+ 20% 의 Structured data(정형)\n",
    "- Data\n",
    "    - raw facts\n",
    "    - no context\n",
    "    - just numbers and text\n",
    "    - e.g)business transaction, sales, payments, etc\n",
    "- Information\n",
    "    - processed data\n",
    "    - data with context\n",
    "    - value-added data\n",
    "    - e.g) customer balance, sales trends, etc\n",
    "    \n",
    "- Database 란?\n",
    "    - Colection of data organied in a manner that allows access, retrieval, and use of that data\n",
    "    - A collection of Interrelated data\n",
    "    - A set of integrated, stored, shard and operational data\n",
    "- Database 조건\n",
    "    - 통합(Integrated)\n",
    "        - 동일한 데이터가 중복되지 않도록 구성\n",
    "        - 최소한의 중복 또는 통제된 중복 만 허용\n",
    "    - 저장(Stored)\n",
    "        - 컴퓨터로 접근 가능한물리적 저장 매체 저장\n",
    "    - 공유(Shared)\n",
    "        - 공동으로 소유하고 유지하며 이용하는 데이터\n",
    "    - 운영(Operational)\n",
    "        - 존재 목적이나 기능 수행에 꼭 필요한 데이터 집합\n",
    "- Data\n",
    "    - Collection of unprocessed items\n",
    "        - Text\n",
    "        - Numbers\n",
    "        - Images\n",
    "        - Audio\n",
    "        - Video\n",
    "\n",
    "### 데이터 베이스 특징\n",
    "- **실시간 접근성(Real-time Accessibility)**\n",
    "    - 데이터들 간의 밀접한 관계로 연결\n",
    "    - 중복 데이터를 배제하도록 지양\n",
    "    - 사용자의 어떤 요구에도 즉각 응답\n",
    "- **계속적인 변화(Continuous evolution)**\n",
    "    - 현실 세계의 상태를 정확히 반영\n",
    "    - 동적으로 삽입/삭제/수정하여 현재의 데이터 유지\n",
    "- **동시 공유 가능(Concurrent Sharing)**\n",
    "    - 여러 사용자들이 동시에 이용\n",
    "    - 같은 시간에 같은 데이터 접근하여 이용\n",
    "- **내용에 의한 참조 가능(Content reference)**\n",
    "    - 저장된 주소나 위치에 의해서 참조하지 않고\n",
    "    - 사용자가 요구하는 데이터의 내용/값에 따라 참조\n",
    "    \n",
    "### What is DBMS?\n",
    "- **DBMS**\n",
    "    - A collection of programs\n",
    "    - Manage the database structure\n",
    "    - Controls access to the data stored in the data base\n",
    "- **DBMS**의 역할\n",
    "    - Create databases\n",
    "    - insert, upadate and delete data\n",
    "    - sort and query data\n",
    "    - create form and report\n",
    "- **DBMS 역할과 장점**\n",
    "    - Improved data sharing\n",
    "    - Improved data security\n",
    "    - Minimized data inconsistency\n",
    "    - Improved data access\n",
    "    - Improved decision making\n",
    "    - Increased end-user productivity\n",
    "    - Reduced application development time\n",
    "    \n",
    "### DBMS 의 종류\n",
    "- **계층형 모델(Hierarchical Database Model)**\n",
    "    - 트리 형태로 표현 (1:N)\n",
    "    - 개체를 노드, 개체 집합들 사이의 관계를 링크로 표현\n",
    "- **네트워크형 모델(Network Database Model)**\n",
    "    - 그래프 형태로 표현 (N:M)\n",
    "    - 각 개체가 여러 관계를 가질 수 있음\n",
    "- **관계 데이터 모델(Relational Database Model)**\n",
    "    - 개체를 테이블, 개체 집합들 사이의 관계를 공통 속성으로 연결\n",
    "    - 가장 많이 쓰임\n",
    "- **객체 관계 모델(Object Relational Database Model)**\n",
    "    - 속성-관계\n",
    "    - 개체-관계\n",
    "    - 가장 많이 쓰임\n",
    "    \n",
    "## RDBMS\n",
    "___\n",
    "### Why use RDBMS?  \n",
    "- 데이터 안정성(Data Safety)\n",
    "    - data is immune to program crashes\n",
    "- 동시 접근성(Concurrent Access)\n",
    "    - atomic updates via transactions\n",
    "- 장애 허용성(Fault Tolerance)\n",
    "    - replicated DBS for instant failover on machine/disk crahses\n",
    "- 데이터 무결성(Data Integrity)\n",
    "    - aids to keep data meaningful\n",
    "- 데이터 확장성(Scalability)\n",
    "    - can handle small/large quantities of data in a uniform manner\n",
    "- 데이터 보고서(Reporting)\n",
    "    - easy to write SQL, programs to generate arbitary reports\n",
    "\n",
    "### RDBMS concepts\n",
    "- Relation/ Table\n",
    "- Tuple / Row or Record\n",
    "- Attribute / Column or Field\n",
    "- Cardinality / Number of Rows\n",
    "- Degree/ Number of Columns\n",
    "- Domain / Pool or legal values\n",
    "- **Primary key** / Unique identifier\n",
    "    - 각각의 데이터는 각각의 고유값을 가져야함.\n",
    "    \n",
    "### 개체 관계 모델(Entity-Relationship Model)\n",
    "- **개체(Entity)**\n",
    "    - 실 세계에 존재하는 분리된 실체 하나를 표현, 일반적으로 명사 하나에 해당\n",
    "- **관계(Relationship)**\n",
    "    - 개체들 사이에 존재하는 연관이나 연결, 일반적으로 동사에 해당\n",
    "    - 최소 대응수(minimum cardinality)와 최대 대응수(maximum cardinality)로 구성\n",
    "- **속성(Attribute)**\n",
    "    - 개체의 성질, 분류, 식별, 수량, 상태 등을 나타내는 세부 항복\n",
    "    - 관계 또한 속성을 보유할 수 있음\n",
    "- **기본키(Primary Key)**\n",
    "    - 모든 개체를 고유하게 식별할수있는 속성\n",
    "    - 중복이 있으면 안됨.\n",
    "    \n",
    "### 예제: 교수-학생 ER 모델\n",
    "- 이항 관계\n",
    "    - 교수는 학생을 지도한다.\n",
    "    - 교수는 강좌를 강의한다.\n",
    "    - 강좌는 학생들이 등록한다.\n",
    "<br>\n",
    "- 상항 관계\n",
    "    - 교수와 학생은 특정 학과에 소속된다.  \n",
    "<br>    \n",
    "- 관계 - Mapping Cardinality\n",
    "    - 조건 1: 교수는 꼭 학생에 대한 지도를 해야 한다.\n",
    "        - min-card(교수,지도)= 1\n",
    "    - 조건 2: 교수는 여러 명의 학생을 지도할 수 있다.\n",
    "        - max-card(교수, 지도)= n\n",
    "    - 조건 3: 학생은 꼭 교수에게 지도를 받아야 한다.\n",
    "        - min-card(교수, 지도)= 1\n",
    "    - 조건 4: 학생은 여려 명의 교수에게 지도를 받을 수 없다.\n",
    "        - max-card(교수, 지도)= 1\n",
    "\n",
    "## SQL\n",
    "### Structured Query Language\n",
    "    - RDBMS의 데이터를 관리하기 만들어진 언어 (대부분 ISO 표준을 따름)\n",
    "    - 자료의 검색과 관리, 데이터베이스 스키마 생성과 수정, 데이터 베이스 객체 접근 조정 관리 등을 고안\n",
    "    \n",
    "### SQL 명령\n",
    "- 데이터 정의 언어 DDL(Data Definition Language)\n",
    "    - Create, Drop, Alter, Truncate\n",
    "- 데이터 조작 언어 DML(Data Manipulation Language)\n",
    "    - Insert, Update, Delete, Select\n",
    "- 데이터 제어 언어 DCL(Data Control Language)\n",
    "    - Grant, Revoke\n",
    "\n",
    "### SQL 구문\n",
    "- 문(Statement), 절(Clause), 식(Expression), 술어(Predicate)\n",
    "\n",
    "### DATA TYPE\n",
    "- Boolean (BOOLEAN)\n",
    "    - to represent value TRUE or FALSE\n",
    "    - values of BOOLEAN column: `TRUE` or `FALSE`\n",
    "    - Synatax: `BOOLEAN`\n",
    "    - Example: definiton of a column `is_manager` in table\n",
    "- Charcter (CHARACTER, VARCHAR)\n",
    "    - to rpresent character data for columns such as names as persons or cities\n",
    "    - a sequence of characters such as names of persons, cities, etc\n",
    "    - Syntax: `{CHARACTER | CHAR} [(length)]`\n",
    "    - Length: Length of the string\n",
    "    - VARCHAR 을 통해 데이터 사이즈를 줄일수있음.\n",
    "- Exact numeric (NUMERIC, DECIMAL, INTEGER, SMALLINT, BIGINT)\n",
    "    - to represent number such as 1,2,3,... and so on\n",
    "    - used for numbers with fractions such as 123.45\n",
    "    - Length of INTEGER : number of bytes occupied in a column by integer is 4bit(32 bits)\n",
    "- Approximate numeric (REAL, FLOAT, DOUBLE)\n",
    "    - to represent numbers with fractions such as 123.45\n",
    "    - precision of the fraction may not be preserved across manipulation of such column values\n",
    "- Datetime(DATE,TIME,TIMESTAMP /LARGE OBJECT( CLOB,BLOB)\n",
    "    - TIME\n",
    "        - time of a day\n",
    "        - consists of datetime field: `HOUR`,`MINUTE`, and `SECOND`\n",
    "        - Syntax: `TIME[(precision)]`\n",
    "        - Precision : seconds value, default is 0 / 3 means milliseconds / 6 means microseconds\n",
    "        - Example:\n",
    "            - stat_titme TIME\n",
    "            - event_time TIME(6)\n",
    "            \n",
    "### DDL\n",
    "- CREATE\n",
    "    - ```CREATE TABLE [table name] ([column definitions]) [table parameters]```\n",
    "    - column definitions\n",
    "        - A comma-separated list consisting of any of the following\n",
    "        - Column definition: `[column name][data type]{NULL|NOT NULL}{column options}`\n",
    "        - Primary key definition: PRIMARY KEY(\\[comma separated column list\\])\n",
    "        - Constraints: {CONSTRAINTS}\\[constraints remianed\\]"
   ]
  },
  {
   "cell_type": "markdown",
   "metadata": {},
   "source": [
    "- Drop\n",
    "    - `DROP objecttype objectname.`\n",
    "    - The DROP statement destroys and existing database, table, index or view.\n",
    "    - `DROP TABLE employees;\n",
    "    - The DROP statement is distinct from the DELETE and TRUNCATE statements, in that DELETE and TRUNCATE do not remove the table itself.\n",
    "    \n",
    "- TRUNCATE\n",
    "    -`TRUNCATE TABLE table_name;`\n",
    "    - The TRUNCATE statement is used to delete all data from a table. It's much faster than DELETE\n",
    "    \n",
    "- ALTER\n",
    "    - `ALTER objecttype objectname parameters.`\n",
    "    - The ALTER statement modifies and existing database object.\n",
    "    - `ALTER TABLE sink ADD bubbles INTEGER;`\n",
    "    \n",
    "### DML\n",
    "- INSERT\n",
    "    - 기본 방법\n",
    "        -``INSERT INTO table (column1 [, column2, column3 ...]) VALUES (value1 [,value2, value3 ...])``\n",
    "        - The number of columns and values must be the same\n",
    "    - 빠른 방법\n",
    "        - `INSERT INTO table VALUES (value1,[value2, ...])`\n",
    "        - If you are adding values for all the columns of the table, you do not need to specify the column names in the SQL query.\n",
    "        \n",
    "- SELECT\n",
    "    - `SELECT column 1, column 2,....`\n",
    "    - `FROM table_name;`\n",
    "    - A *SELECT* statement retrieves zero or more rows from one or more database tables or database view. In most applications *SELECT* is the most commonly used data query language (DQL) command.\n",
    "    - `SELECT CustomerName, City FROM Customers;`\n",
    "    - `SELECT * FROM Customers;`\n",
    "    - parameters\n",
    "        - `WHERE` specifies which rows to retrieve.\n",
    "        - `GROUP BY` groups rows sharing a property so that an aggregate function can be applied to each group\n",
    "        - `HAVING` selects among the groups defined by the GROUP BY clause.\n",
    "        - `ORDER BY` specifies an order in which to return the rows.\n",
    "        - `AS` provides an ailas which can be used to temporarily rename tables or columns.\n",
    "        \n",
    "- WHERE\n",
    "    - used to filter records\n",
    "    - used to extract only those record that fullfill a specified condtion \n",
    "    - `BETWEEN` : find any values within a range\n",
    "    - `LIKE` : find a string fitting a certain description / % wildcard\n",
    "        - ` 'a%' ` / `%a` / `%or%` / `_r%` / `a_%_%` / `a%o`  \n",
    "        \n",
    "        \n",
    "- UPDATE\n",
    "    - changes the data of the one or more records in a table\n",
    "    - Either all the rows can be updated, or a subset may be chosen using a condition.\n",
    "    - `UPDATE CUSTOMERS`  \n",
    "      `SET ContactName = 'Alfred Schmidt', City = 'Frankfurt'`  \n",
    "      `WHERE CustomerID = 1;`   \n",
    "- Joins\n",
    "    - Combines columns from one or more tables in a relational database, based on a related column between them\n",
    "    - JOIN: ***INNER, LEFT OUTER, RIGHT OUTER, FULL OUTER, CROSS***\n",
    "    - (INNER) *JOIN*\n",
    "        - returns record that have matching values in both tables\n",
    "    - *LEFT* (OUTER) JOIN\n",
    "        - return all records from the left table, and the matched records from the right table.\n",
    "    - *RIGHT* (OUTER) JOIN\n",
    "        - return all records from the right table, and the matched recrods from the left table.\n",
    "    - CROSS JOIN\n",
    "        - `SELECT *`  \n",
    "        `FROM employee CROSS JOIN department`\n",
    "    "
   ]
  },
  {
   "cell_type": "code",
   "execution_count": 1,
   "metadata": {},
   "outputs": [],
   "source": [
    "import sqlite3"
   ]
  },
  {
   "cell_type": "code",
   "execution_count": 2,
   "metadata": {},
   "outputs": [
    {
     "data": {
      "text/plain": [
       "'2.6.0'"
      ]
     },
     "execution_count": 2,
     "metadata": {},
     "output_type": "execute_result"
    }
   ],
   "source": [
    "sqlite3.version\n",
    "#The version number of this module, as a string. This is not the version of the SQLite libbrary."
   ]
  },
  {
   "cell_type": "code",
   "execution_count": 3,
   "metadata": {},
   "outputs": [
    {
     "data": {
      "text/plain": [
       "(2, 6, 0)"
      ]
     },
     "execution_count": 3,
     "metadata": {},
     "output_type": "execute_result"
    }
   ],
   "source": [
    "sqlite3.version_info\n",
    "#The version number of this module, as a tuple of integers. This is not the version of the SQLite library."
   ]
  },
  {
   "cell_type": "code",
   "execution_count": 4,
   "metadata": {},
   "outputs": [
    {
     "data": {
      "text/plain": [
       "'3.26.0'"
      ]
     },
     "execution_count": 4,
     "metadata": {},
     "output_type": "execute_result"
    }
   ],
   "source": [
    "sqlite3.sqlite_version\n",
    "#The version number of the run-time SQLite library, as a string"
   ]
  },
  {
   "cell_type": "markdown",
   "metadata": {},
   "source": [
    "### Database 연결(생성)\n",
    "`conn = sqlite3.connect('경로/이름' or ':memory:')`\n",
    "### Cursor 생성\n",
    "`cur = conn.cursor()`  \n",
    "*cursor*(factory=Cursor):  The cursor method accepts a single optional parameter factory. IF supplied, this musct be a callable returning an instance of Cursor of its subclasses."
   ]
  },
  {
   "cell_type": "code",
   "execution_count": 12,
   "metadata": {},
   "outputs": [],
   "source": [
    "conn = sqlite3.connect(':memory:')"
   ]
  },
  {
   "cell_type": "code",
   "execution_count": 14,
   "metadata": {},
   "outputs": [
    {
     "data": {
      "text/plain": [
       "builtin_function_or_method"
      ]
     },
     "execution_count": 14,
     "metadata": {},
     "output_type": "execute_result"
    }
   ],
   "source": [
    "type(sqlite3.connect)"
   ]
  },
  {
   "cell_type": "code",
   "execution_count": 17,
   "metadata": {},
   "outputs": [],
   "source": [
    "cur = conn.cursor() #SQL 을 주고받기위해 필요한것."
   ]
  },
  {
   "cell_type": "code",
   "execution_count": 18,
   "metadata": {},
   "outputs": [
    {
     "data": {
      "text/plain": [
       "sqlite3.Cursor"
      ]
     },
     "execution_count": 18,
     "metadata": {},
     "output_type": "execute_result"
    }
   ],
   "source": [
    "type(cur)"
   ]
  },
  {
   "cell_type": "code",
   "execution_count": 19,
   "metadata": {},
   "outputs": [
    {
     "data": {
      "text/plain": [
       "['__class__',\n",
       " '__delattr__',\n",
       " '__dir__',\n",
       " '__doc__',\n",
       " '__eq__',\n",
       " '__format__',\n",
       " '__ge__',\n",
       " '__getattribute__',\n",
       " '__gt__',\n",
       " '__hash__',\n",
       " '__init__',\n",
       " '__init_subclass__',\n",
       " '__iter__',\n",
       " '__le__',\n",
       " '__lt__',\n",
       " '__ne__',\n",
       " '__new__',\n",
       " '__next__',\n",
       " '__reduce__',\n",
       " '__reduce_ex__',\n",
       " '__repr__',\n",
       " '__setattr__',\n",
       " '__sizeof__',\n",
       " '__str__',\n",
       " '__subclasshook__',\n",
       " 'arraysize',\n",
       " 'close',\n",
       " 'connection',\n",
       " 'description',\n",
       " 'execute',\n",
       " 'executemany',\n",
       " 'executescript',\n",
       " 'fetchall',\n",
       " 'fetchmany',\n",
       " 'fetchone',\n",
       " 'lastrowid',\n",
       " 'row_factory',\n",
       " 'rowcount',\n",
       " 'setinputsizes',\n",
       " 'setoutputsize']"
      ]
     },
     "execution_count": 19,
     "metadata": {},
     "output_type": "execute_result"
    }
   ],
   "source": [
    "dir(cur)"
   ]
  },
  {
   "cell_type": "code",
   "execution_count": 20,
   "metadata": {},
   "outputs": [
    {
     "data": {
      "text/plain": [
       "['DataError',\n",
       " 'DatabaseError',\n",
       " 'Error',\n",
       " 'IntegrityError',\n",
       " 'InterfaceError',\n",
       " 'InternalError',\n",
       " 'NotSupportedError',\n",
       " 'OperationalError',\n",
       " 'ProgrammingError',\n",
       " 'Warning',\n",
       " '__call__',\n",
       " '__class__',\n",
       " '__delattr__',\n",
       " '__dir__',\n",
       " '__doc__',\n",
       " '__enter__',\n",
       " '__eq__',\n",
       " '__exit__',\n",
       " '__format__',\n",
       " '__ge__',\n",
       " '__getattribute__',\n",
       " '__gt__',\n",
       " '__hash__',\n",
       " '__init__',\n",
       " '__init_subclass__',\n",
       " '__le__',\n",
       " '__lt__',\n",
       " '__ne__',\n",
       " '__new__',\n",
       " '__reduce__',\n",
       " '__reduce_ex__',\n",
       " '__repr__',\n",
       " '__setattr__',\n",
       " '__sizeof__',\n",
       " '__str__',\n",
       " '__subclasshook__',\n",
       " 'backup',\n",
       " 'close',\n",
       " 'commit',\n",
       " 'create_aggregate',\n",
       " 'create_collation',\n",
       " 'create_function',\n",
       " 'cursor',\n",
       " 'enable_load_extension',\n",
       " 'execute',\n",
       " 'executemany',\n",
       " 'executescript',\n",
       " 'in_transaction',\n",
       " 'interrupt',\n",
       " 'isolation_level',\n",
       " 'iterdump',\n",
       " 'load_extension',\n",
       " 'rollback',\n",
       " 'row_factory',\n",
       " 'set_authorizer',\n",
       " 'set_progress_handler',\n",
       " 'set_trace_callback',\n",
       " 'text_factory',\n",
       " 'total_changes']"
      ]
     },
     "execution_count": 20,
     "metadata": {},
     "output_type": "execute_result"
    }
   ],
   "source": [
    "dir(conn)"
   ]
  },
  {
   "cell_type": "code",
   "execution_count": 3,
   "metadata": {},
   "outputs": [],
   "source": [
    "import sqlite3"
   ]
  },
  {
   "cell_type": "code",
   "execution_count": 13,
   "metadata": {},
   "outputs": [
    {
     "ename": "OperationalError",
     "evalue": "near \"select_sqlite_version\": syntax error",
     "output_type": "error",
     "traceback": [
      "\u001b[0;31m---------------------------------------------------------------------------\u001b[0m",
      "\u001b[0;31mOperationalError\u001b[0m                          Traceback (most recent call last)",
      "\u001b[0;32m<ipython-input-13-a19c36adce93>\u001b[0m in \u001b[0;36m<module>\u001b[0;34m\u001b[0m\n\u001b[1;32m      1\u001b[0m \u001b[0mcon\u001b[0m \u001b[0;34m=\u001b[0m \u001b[0msqlite3\u001b[0m\u001b[0;34m.\u001b[0m\u001b[0mconnect\u001b[0m\u001b[0;34m(\u001b[0m\u001b[0;34m':memory:'\u001b[0m\u001b[0;34m)\u001b[0m\u001b[0;34m\u001b[0m\u001b[0;34m\u001b[0m\u001b[0m\n\u001b[1;32m      2\u001b[0m \u001b[0mcur\u001b[0m \u001b[0;34m=\u001b[0m \u001b[0mcon\u001b[0m\u001b[0;34m.\u001b[0m\u001b[0mcursor\u001b[0m\u001b[0;34m(\u001b[0m\u001b[0;34m)\u001b[0m\u001b[0;34m\u001b[0m\u001b[0;34m\u001b[0m\u001b[0m\n\u001b[0;32m----> 3\u001b[0;31m \u001b[0mcur\u001b[0m\u001b[0;34m.\u001b[0m\u001b[0mexecute\u001b[0m\u001b[0;34m(\u001b[0m\u001b[0;34m\"select_sqlite_version()\"\u001b[0m\u001b[0;34m)\u001b[0m\u001b[0;34m\u001b[0m\u001b[0;34m\u001b[0m\u001b[0m\n\u001b[0m\u001b[1;32m      4\u001b[0m \u001b[0mcur\u001b[0m\u001b[0;34m.\u001b[0m\u001b[0mfetchall\u001b[0m\u001b[0;34m(\u001b[0m\u001b[0;34m)\u001b[0m\u001b[0;34m\u001b[0m\u001b[0;34m\u001b[0m\u001b[0m\n",
      "\u001b[0;31mOperationalError\u001b[0m: near \"select_sqlite_version\": syntax error"
     ]
    }
   ],
   "source": [
    "con = sqlite3.connect(':memory:')\n",
    "cur = con.cursor()\n",
    "cur.execute(\"select_sqlite_version()\")\n",
    "cur.fetchall()"
   ]
  },
  {
   "cell_type": "markdown",
   "metadata": {},
   "source": [
    "### execute\n",
    "- `cur.execute('SQL')`\n",
    "- **execute**\n",
    "    - Exectues an SQL statement. The SQL statement may be parameterized. The sqlite3 module supports two kinds of placeholdrs: question mark (qmark style) and named placeholders (named style).\n",
    "    \n",
    "### executemany\n",
    "- `cur.executemany('SQL', params)\n",
    "- **executemany**(*sql,seq_of_parameters*)  \n",
    "    -Executes an SQL command against all parameter sequences or mappings found in the sequence *seq_of_parameters*. The sqlite3 module also allows using an iterator yielding parameters instead of sequences.\n",
    "    "
   ]
  },
  {
   "cell_type": "code",
   "execution_count": 87,
   "metadata": {},
   "outputs": [
    {
     "name": "stdout",
     "output_type": "stream",
     "text": [
      "('Yeltsin', 72)\n"
     ]
    }
   ],
   "source": [
    "con = sqlite3.connect(\":memory:\")\n",
    "cur = con.cursor()\n",
    "cur.execute(\"create table people (name_last, age)\")\n",
    "\n",
    "who = \"Yeltsin\"\n",
    "age = 72\n",
    "\n",
    "# This is the qmark style:\n",
    "cur.execute(\"insert into people values (?, ?)\", (who, age))\n",
    "\n",
    "# And this is the named style:\n",
    "cur.execute(\"select * from people WHERE name_last=:who AND age=:age\", {\"who\": who, \"age\": age})\n",
    "\n",
    "print(cur.fetchone())\n"
   ]
  },
  {
   "cell_type": "code",
   "execution_count": 88,
   "metadata": {},
   "outputs": [
    {
     "data": {
      "text/plain": [
       "<sqlite3.Cursor at 0x107435f80>"
      ]
     },
     "execution_count": 88,
     "metadata": {},
     "output_type": "execute_result"
    }
   ],
   "source": [
    "sql = \"insert into people values (?,?)\"\n",
    "curData = [('A',1),('B',2),('C',3)]\n",
    "\n",
    "cur.executemany(sql, curData)"
   ]
  },
  {
   "cell_type": "code",
   "execution_count": 89,
   "metadata": {},
   "outputs": [
    {
     "ename": "ProgrammingError",
     "evalue": "You did not supply a value for binding 1.",
     "output_type": "error",
     "traceback": [
      "\u001b[0;31m---------------------------------------------------------------------------\u001b[0m",
      "\u001b[0;31mProgrammingError\u001b[0m                          Traceback (most recent call last)",
      "\u001b[0;32m<ipython-input-89-89d8d9aec4b7>\u001b[0m in \u001b[0;36m<module>\u001b[0;34m\u001b[0m\n\u001b[1;32m      1\u001b[0m \u001b[0mdataDict\u001b[0m \u001b[0;34m=\u001b[0m \u001b[0;34m[\u001b[0m\u001b[0;34m{\u001b[0m\u001b[0;34m\"who\"\u001b[0m\u001b[0;34m:\u001b[0m\u001b[0;34m\"E\"\u001b[0m\u001b[0;34m,\u001b[0m \u001b[0;34m\"age\"\u001b[0m\u001b[0;34m:\u001b[0m\u001b[0;36m1\u001b[0m\u001b[0;34m}\u001b[0m\u001b[0;34m,\u001b[0m\u001b[0;34m{\u001b[0m\u001b[0;34m\"who:\"\u001b[0m\u001b[0;34m:\u001b[0m\u001b[0;34m\"F\"\u001b[0m\u001b[0;34m,\u001b[0m \u001b[0;34m\"age\"\u001b[0m\u001b[0;34m:\u001b[0m\u001b[0;36m1\u001b[0m\u001b[0;34m}\u001b[0m\u001b[0;34m]\u001b[0m\u001b[0;34m\u001b[0m\u001b[0;34m\u001b[0m\u001b[0m\n\u001b[0;32m----> 2\u001b[0;31m \u001b[0mcur\u001b[0m\u001b[0;34m.\u001b[0m\u001b[0mexecutemany\u001b[0m\u001b[0;34m(\u001b[0m\u001b[0;34m\"INSERT INTO people VALUES(:who, :age)\"\u001b[0m\u001b[0;34m,\u001b[0m\u001b[0mdataDict\u001b[0m\u001b[0;34m)\u001b[0m\u001b[0;34m\u001b[0m\u001b[0;34m\u001b[0m\u001b[0m\n\u001b[0m",
      "\u001b[0;31mProgrammingError\u001b[0m: You did not supply a value for binding 1."
     ]
    }
   ],
   "source": [
    "dataDict = [{\"who\":\"E\", \"age\":1},{\"who:\":\"F\", \"age\":1}]\n",
    "cur.executemany(\"INSERT INTO people VALUES(:who, :age)\",dataDict)"
   ]
  },
  {
   "cell_type": "markdown",
   "metadata": {},
   "source": [
    "### executescript\n",
    "`cur.executescript('''SQL1; SQL2; ...''')`\n",
    "\n",
    "**executescript** (*sql_script*)  \n",
    "- This is a nonstandard convenience method for executing multiple SQL statements at once. It issues a COMMIT statement first, then executes the SQL script it gets as a parameter."
   ]
  },
  {
   "cell_type": "code",
   "execution_count": 131,
   "metadata": {},
   "outputs": [],
   "source": [
    "cur.executescript(\"\"\"\n",
    "    create table person (\n",
    "        first_name text primary key,\n",
    "        last_name text not null\n",
    "        );\n",
    "        \n",
    "        insert into person values ('name', 'kim');\n",
    "\"\"\")\n",
    "con.close()"
   ]
  },
  {
   "cell_type": "markdown",
   "metadata": {},
   "source": [
    "### DDL\n",
    "-CREATE"
   ]
  },
  {
   "cell_type": "code",
   "execution_count": 124,
   "metadata": {},
   "outputs": [
    {
     "name": "stdout",
     "output_type": "stream",
     "text": [
      "Opened database successfully\n",
      "Table created successfully\n"
     ]
    }
   ],
   "source": [
    "conn = sqlite3.connect('create.db')\n",
    "print(\"Opened database successfully\")\n",
    "cur =conn.cursor()\n",
    "cur.execute(\"\"\"\n",
    "    CREATE TABLE COMPANY(\n",
    "    ID INT PRIMARY KEY     NOT NULL,\n",
    "    NAME           TEXT    NOT NULL,\n",
    "    AGE            INT     NOT NULL,\n",
    "    ADDRESS        CEAR(50),\n",
    "    SALARY         REAL);\n",
    "\"\"\")\n",
    "\n",
    "print(\"Table created successfully\")\n"
   ]
  },
  {
   "cell_type": "markdown",
   "metadata": {},
   "source": [
    "### DML\n",
    "    - insert"
   ]
  },
  {
   "cell_type": "code",
   "execution_count": 125,
   "metadata": {},
   "outputs": [],
   "source": [
    "cur.execute(\"INSERT INTO COMPANY (ID,NAME,AGE,ADDRESS,SALARY)VALUES (1, 'Paul', 32, 'California', 20000.00)\");\n"
   ]
  },
  {
   "cell_type": "code",
   "execution_count": 126,
   "metadata": {},
   "outputs": [],
   "source": [
    "\n",
    "cur.execute(\"INSERT INTO COMPANY (ID,NAME,AGE,ADDRESS,SALARY)VALUES(:id, :name, :age, :address, :salary)\",\n",
    "              {'id':2, 'name':'Allen','age':25,'address':'Texas','salary':15000.00});\n"
   ]
  },
  {
   "cell_type": "code",
   "execution_count": 127,
   "metadata": {},
   "outputs": [],
   "source": [
    "data =[(3, 'Teddy', 23, 'Norway ', 200000.00 ),(4, 'Mark', 25, 'Rich-Mond ', 65000.00)]\n",
    "\n",
    "cur.executemany(\"INSERT INTO COMPANY (ID,NAME,AGE,ADDRESS,SALARY) VALUES (?,?,?,?,?)\",data);\n"
   ]
  },
  {
   "cell_type": "code",
   "execution_count": 128,
   "metadata": {},
   "outputs": [],
   "source": [
    "cur.executescript(\"\"\"\n",
    "    INSERT INTO COMPANY (ID,NAME,AGE,ADDRESS,SALARY)\n",
    "    VALUES (5, 'MARK1', 25, 'Rich-Mond ', 65000.00);\n",
    "    \n",
    "    INSERT INTO COMPANY (ID,NAME,AGE,ADDRESS,SALARY)\n",
    "    VALUES (6, 'MARK2', 25, 'Rich-Mond ', 65000.00);\n",
    "\"\"\");"
   ]
  },
  {
   "cell_type": "code",
   "execution_count": 129,
   "metadata": {},
   "outputs": [
    {
     "name": "stdout",
     "output_type": "stream",
     "text": [
      "Records created successfully\n"
     ]
    }
   ],
   "source": [
    "conn.commit()\n",
    "print(\"Records created successfully\")"
   ]
  },
  {
   "cell_type": "code",
   "execution_count": 132,
   "metadata": {},
   "outputs": [
    {
     "name": "stdout",
     "output_type": "stream",
     "text": [
      "ID =  1 <class 'int'>\n",
      "NAME =  Paul <class 'str'>\n",
      "ADDRESS =  California <class 'str'>\n",
      "SALARY =  20000.0 <class 'float'>\n",
      "\n",
      "ID =  2 <class 'int'>\n",
      "NAME =  Allen <class 'str'>\n",
      "ADDRESS =  Texas <class 'str'>\n",
      "SALARY =  15000.0 <class 'float'>\n",
      "\n",
      "ID =  3 <class 'int'>\n",
      "NAME =  Teddy <class 'str'>\n",
      "ADDRESS =  Norway  <class 'str'>\n",
      "SALARY =  200000.0 <class 'float'>\n",
      "\n",
      "ID =  4 <class 'int'>\n",
      "NAME =  Mark <class 'str'>\n",
      "ADDRESS =  Rich-Mond  <class 'str'>\n",
      "SALARY =  65000.0 <class 'float'>\n",
      "\n",
      "ID =  5 <class 'int'>\n",
      "NAME =  MARK1 <class 'str'>\n",
      "ADDRESS =  Rich-Mond  <class 'str'>\n",
      "SALARY =  65000.0 <class 'float'>\n",
      "\n",
      "ID =  6 <class 'int'>\n",
      "NAME =  MARK2 <class 'str'>\n",
      "ADDRESS =  Rich-Mond  <class 'str'>\n",
      "SALARY =  65000.0 <class 'float'>\n",
      "\n",
      "Operation done successfully\n"
     ]
    }
   ],
   "source": [
    "cursor = cur.execute('SELECT id, name, address, salary from COMPANY')\n",
    "\n",
    "for row in cursor:\n",
    "    print(\"ID = \", row[0], type(row[0]))\n",
    "    print(\"NAME = \", row[1], type(row[1]))\n",
    "    print(\"ADDRESS = \", row[2], type(row[2]))\n",
    "    print(\"SALARY = \", row[3], type(row[3]), end='\\n\\n')\n",
    "    \n",
    "print(\"Operation done successfully\")"
   ]
  },
  {
   "cell_type": "code",
   "execution_count": null,
   "metadata": {},
   "outputs": [],
   "source": []
  }
 ],
 "metadata": {
  "kernelspec": {
   "display_name": "Python 3",
   "language": "python",
   "name": "python3"
  },
  "language_info": {
   "codemirror_mode": {
    "name": "ipython",
    "version": 3
   },
   "file_extension": ".py",
   "mimetype": "text/x-python",
   "name": "python",
   "nbconvert_exporter": "python",
   "pygments_lexer": "ipython3",
   "version": "3.7.1"
  }
 },
 "nbformat": 4,
 "nbformat_minor": 2
}
