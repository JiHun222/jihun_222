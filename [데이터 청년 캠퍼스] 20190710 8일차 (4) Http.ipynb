{
 "cells": [
  {
   "cell_type": "markdown",
   "metadata": {},
   "source": [
    "# HTTP"
   ]
  },
  {
   "cell_type": "markdown",
   "metadata": {},
   "source": [
    "- http에서 가져오는 것은 무조건 html로 읽을 수 있다\n",
    "- html을 분석할 수 있다면 web에 있는 데이터를 모두 긁어올 수 있다"
   ]
  },
  {
   "cell_type": "markdown",
   "metadata": {},
   "source": [
    "    - HTTP : HyperText Transfer Protocol\n",
    "    - HTML : HyperTest Makeup Language\n",
    "- Url 은\n",
    "    - protocol : http\n",
    "    - server : www.example.com\n",
    "    - port : 80 (송신을 하는 도구)\n",
    "    - File : index.html"
   ]
  },
  {
   "cell_type": "markdown",
   "metadata": {},
   "source": [
    "## request\n",
    "- request는 그냥 날라가지 않는다\n",
    "- header에 정보가 숨겨져 잇다 (host 정확하게 되어 있는지, 무슨 방식인지(get방식이면 body 없고, 뒤에 물음표)\n",
    "    - get : /index.html       HTTP/1.1\n",
    "    - Host : www.example.com\n",
    "    - accept : test/html, */*\n",
    "    - accept-language : en-us\n",
    "    - accept-charset : ISO-8859-1, utf-8\n",
    "    - user-agent : Mozilla/5.0 (내 것이 뭘로 되어있는지)\n",
    "    - connection : keep-alive"
   ]
  },
  {
   "cell_type": "markdown",
   "metadata": {},
   "source": [
    "## method\n",
    "- get\n",
    "    - 데이터를 불러오는 방식\n",
    "    - head에다가. 길이에 제한이 있고, 문자밖에 못 온다\n",
    "    - DB의 insert에 관련되어 있다\n",
    "- body\n",
    "    - post에다가. 길이에 제한이 없다"
   ]
  },
  {
   "cell_type": "markdown",
   "metadata": {},
   "source": [
    "## rest\n",
    "- restful 방식\n",
    "- 앞의 header의 메소드만 바꾸면 설계 바꾸기 쉽다\n",
    "- rest : representational state transfer\n",
    "- crud : create, read, update, delete"
   ]
  },
  {
   "cell_type": "code",
   "execution_count": null,
   "metadata": {},
   "outputs": [],
   "source": []
  }
 ],
 "metadata": {
  "kernelspec": {
   "display_name": "Python 3",
   "language": "python",
   "name": "python3"
  },
  "language_info": {
   "codemirror_mode": {
    "name": "ipython",
    "version": 3
   },
   "file_extension": ".py",
   "mimetype": "text/x-python",
   "name": "python",
   "nbconvert_exporter": "python",
   "pygments_lexer": "ipython3",
   "version": "3.7.1"
  }
 },
 "nbformat": 4,
 "nbformat_minor": 2
}
