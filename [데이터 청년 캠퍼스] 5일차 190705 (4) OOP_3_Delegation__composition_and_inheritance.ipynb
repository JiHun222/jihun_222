{
 "cells": [
  {
   "cell_type": "markdown",
   "metadata": {},
   "source": [
    "## The Delegation Run\n",
    "\n",
    "If classes are objects what is the difference between types and instances?\n",
    "\n",
    "When I talk about \"my cat\" I am referring to a concrete instance of the \"cat\" concept, which is a _subtype_ of \"animal\". So, despite being both objects, while types can be _specialized_, instances cannot.\n",
    "\n",
    "Usually an object B is said to be a specialization of an object A when:\n",
    "\n",
    "* B has all the features of A\n",
    "* B can provide new features\n",
    "* B can perform some or all the tasks performed by A in a different way\n",
    "\n",
    "Those targets are very general and valid for any system and the key to achieve them with the maximum reuse of already existing components is _delegation_. Delegation means that an object shall perform only what it knows best, and leave the rest to other objects.\n",
    "\n",
    "Delegation can be implemented with two different mechanisms: _composition_ and _inheritance_. Sadly, very often only inheritance is listed among the pillars of OOP techniques, forgetting that it is an implementation of the more generic and fundamental mechanism of delegation; perhaps a better nomenclature for the two techniques could be _explicit delegation_ (composition) and _implicit delegation_ (inheritance).\n",
    "\n",
    "Please note that, again, when talking about composition and inheritance we are talking about focusing on a behavioural or structural delegation. Another way to think about the difference between composition and inheritance is to consider if the object _knows_ who can satisfy your request or if the object _is_ the one that satisfy the request.\n",
    "\n",
    "**Please, please, please do not forget composition**: in many cases, composition can lead to simpler systems, with benefits on maintainability and changeability. \n",
    "\n",
    "Usually composition is said to be a very generic technique that needs no special syntax, while inheritance and its rules are strongly dependent on the language of choice. Actually, the strong dynamic nature of Python softens the boundary line between the two techniques.\n",
    "\n",
    "## Inheritance Now\n",
    "\n",
    "In Python a class can be declared as an _extension_ of one or more different classes, through the _class inheritance_ mechanism. The child class (the one that inherits) has the same internal structure of the parent class (the one that is inherited), and for the case of multiple inheritance the language has very specific rules to manage possible conflicts or redefinitions among the parent classes. A very simple example of inheritance is\n",
    "\n",
    "__new__ 값을 반환하고\n",
    "__init__가 실행이 된다\n",
    "여기 밑에 initsubclass도 있는데, 상속받을 때 초기값을 지정해줄 수 있다"
   ]
  },
  {
   "cell_type": "code",
   "execution_count": 116,
   "metadata": {},
   "outputs": [],
   "source": [
    "class Door: # 클래스 변수\n",
    "    colour = 'brown'\n",
    "\n",
    "    def __init__(self, number, status): #__init__ 생성자. 인스턴스화할 때 많이 불리고, 값을 초기화할 때 사용된다\n",
    "        self.number = number            # (self,number,status) 클래스에서는 3개, 메소드에서는 2개 (첫 번째 인자 사용 x)\n",
    "        self.status = status\n",
    "\n",
    "    @classmethod\n",
    "    def knock(self):\n",
    "        print(\"Knock!\")\n",
    "\n",
    "    def paint(self, colour):\n",
    "        self.colour = colour\n",
    " \n",
    "    def open(self):\n",
    "        self.status = 'open'\n",
    "        \n",
    "    def close(self):\n",
    "        self.status = 'closed'\n",
    "        "
   ]
  },
  {
   "cell_type": "code",
   "execution_count": 11,
   "metadata": {},
   "outputs": [
    {
     "data": {
      "text/plain": [
       "(__main__.SecurityDoor, __main__.Door, object)"
      ]
     },
     "execution_count": 11,
     "metadata": {},
     "output_type": "execute_result"
    }
   ],
   "source": [
    "SecurityDoor.__mro__"
   ]
  },
  {
   "cell_type": "code",
   "execution_count": 13,
   "metadata": {},
   "outputs": [],
   "source": [
    "t = Door(1, 'o') # 클래스는 사용하기 위해 기본적으로 인스턴스화를 시킨다\n",
    "                 # 객체에 정의된 메소드를 사용하기 위해\n",
    "                 # dir(t) 로 정의된 메소드 확인"
   ]
  },
  {
   "cell_type": "code",
   "execution_count": 14,
   "metadata": {},
   "outputs": [
    {
     "data": {
      "text/plain": [
       "['__class__',\n",
       " '__delattr__',\n",
       " '__dict__',\n",
       " '__dir__',\n",
       " '__doc__',\n",
       " '__eq__',\n",
       " '__format__',\n",
       " '__ge__',\n",
       " '__getattribute__',\n",
       " '__gt__',\n",
       " '__hash__',\n",
       " '__init__',\n",
       " '__init_subclass__',\n",
       " '__le__',\n",
       " '__lt__',\n",
       " '__module__',\n",
       " '__ne__',\n",
       " '__new__',\n",
       " '__reduce__',\n",
       " '__reduce_ex__',\n",
       " '__repr__',\n",
       " '__setattr__',\n",
       " '__sizeof__',\n",
       " '__str__',\n",
       " '__subclasshook__',\n",
       " '__weakref__',\n",
       " 'close',\n",
       " 'colour',\n",
       " 'knock',\n",
       " 'number',\n",
       " 'open',\n",
       " 'paint',\n",
       " 'paint2',\n",
       " 'status']"
      ]
     },
     "execution_count": 14,
     "metadata": {},
     "output_type": "execute_result"
    }
   ],
   "source": [
    "dir(t)"
   ]
  },
  {
   "cell_type": "code",
   "execution_count": 64,
   "metadata": {},
   "outputs": [],
   "source": [
    "class Door: \n",
    "    '''배고파'''\n",
    "    colour = 'brown'\n",
    "\n",
    "    def __init__(self, number, status): #__init__ 생성자. 인스턴스화할 때 많이 불리고, 값을 초기화할 때 사용된다\n",
    "        self.number = number            # (self,number,status) 클래스에서는 3개, 메소드에서는 2개 (첫 번째 인자 사용 x)\n",
    "        self.status = status\n",
    "\n",
    "    @classmethod\n",
    "    def knock(self):\n",
    "        print(\"Knock!\")\n",
    "\n",
    "    @classmethod\n",
    "    def paint(self, colour):\n",
    "        self.colour = colour\n",
    "        \n",
    "    @classmethod\n",
    "    def paint2(self, number):\n",
    "        self.number = number\n",
    "\n",
    "    def open(self):\n",
    "        self.status = 'open'\n",
    "        \n",
    "    def close(self):\n",
    "        self.status = 'closed'\n",
    "        \n",
    "class SecurityDoor(Door,):\n",
    "    colour = 'pink'"
   ]
  },
  {
   "cell_type": "code",
   "execution_count": 21,
   "metadata": {},
   "outputs": [],
   "source": [
    "t = Door(1, 'o') #여기서 (__doc__)메소드는 클래스에만 쓰임"
   ]
  },
  {
   "cell_type": "code",
   "execution_count": 18,
   "metadata": {},
   "outputs": [
    {
     "name": "stdout",
     "output_type": "stream",
     "text": [
      "Knock!\n"
     ]
    }
   ],
   "source": [
    "t.knock()\n",
    "# 인스턴스에서 뭐가 없으면 클래스에서 찾는다"
   ]
  },
  {
   "cell_type": "code",
   "execution_count": 31,
   "metadata": {},
   "outputs": [],
   "source": [
    "# __class__ method를 안 찍으면 function이 찍힌다"
   ]
  },
  {
   "cell_type": "code",
   "execution_count": 32,
   "metadata": {},
   "outputs": [],
   "source": [
    "t.paint('red') # paint는 클래스 메소드\n",
    "               # 인스턴스변수처럼 보이지만 클래스 메소드를 붙이는 순간 얘를 실행하면 클래스 변수라고 함"
   ]
  },
  {
   "cell_type": "code",
   "execution_count": 33,
   "metadata": {},
   "outputs": [],
   "source": [
    "t = Door(1, 'o')"
   ]
  },
  {
   "cell_type": "code",
   "execution_count": 34,
   "metadata": {},
   "outputs": [
    {
     "name": "stdout",
     "output_type": "stream",
     "text": [
      "Knock!\n"
     ]
    }
   ],
   "source": [
    "t.knock()"
   ]
  },
  {
   "cell_type": "code",
   "execution_count": 35,
   "metadata": {},
   "outputs": [],
   "source": [
    "# 클래스 변수를 붙이면 인스턴스 값 수정 못함. 클래스 값만 수정해야"
   ]
  },
  {
   "cell_type": "code",
   "execution_count": 36,
   "metadata": {},
   "outputs": [
    {
     "data": {
      "text/plain": [
       "'red'"
      ]
     },
     "execution_count": 36,
     "metadata": {},
     "output_type": "execute_result"
    }
   ],
   "source": [
    "Door.colour"
   ]
  },
  {
   "cell_type": "code",
   "execution_count": 28,
   "metadata": {},
   "outputs": [
    {
     "data": {
      "text/plain": [
       "{'number': 1, 'status': 'o'}"
      ]
     },
     "execution_count": 28,
     "metadata": {},
     "output_type": "execute_result"
    }
   ],
   "source": [
    "vars(t) #인스턴스를 넣으면 인스턴스 변수에 대해 알려준다"
   ]
  },
  {
   "cell_type": "code",
   "execution_count": 30,
   "metadata": {},
   "outputs": [
    {
     "data": {
      "text/plain": [
       "{'__name__': '__main__',\n",
       " '__doc__': 'Automatically created module for IPython interactive environment',\n",
       " '__package__': None,\n",
       " '__loader__': None,\n",
       " '__spec__': None,\n",
       " '__builtin__': <module 'builtins' (built-in)>,\n",
       " '__builtins__': <module 'builtins' (built-in)>,\n",
       " '_ih': ['',\n",
       "  'class Door: # 클래스 변수\\n    colour = \\'brown\\'\\n\\n    def __init__(self, number, status): #__init__ 생성자. 인스턴스화할 때 많이 불리고, 값을 초기화할 때 사용된다\\n        self.number = number\\n        self.status = status\\n\\n    @classmethod\\n    def knock(self):\\n        print(\"Knock!\")\\n\\n    @classmethod\\n    def paint(self, colour):\\n        self.colour = colour\\n        \\n    @classmethod\\n    def paint2(self, number):\\n        self.number = number\\n\\n    def open(self):\\n        self.status = \\'open\\'\\n        \\n    def close(self):\\n        self.status = \\'closed\\'\\n        \\nclass SecurityDoor(Door,):\\n    colour = \\'pink\\'',\n",
       "  'class Door: # 클래스 변수\\n    colour = \\'brown\\'\\n\\n    def __init__(self, number, status): #__init__ 생성자. 인스턴스화할 때 많이 불리고, 값을 초기화할 때 사용된다\\n        self.number = number            # (self,number,status) 클래스에서는 3개, 메소드에서는 2개 (첫 번째 인자 사용 x)\\n        self.status = status\\n\\n    @classmethod\\n    def knock(self):\\n        print(\"Knock!\")\\n\\n    @classmethod\\n    def paint(self, colour):\\n        self.colour = colour\\n        \\n    @classmethod\\n    def paint2(self, number):\\n        self.number = number\\n\\n    def open(self):\\n        self.status = \\'open\\'\\n        \\n    def close(self):\\n        self.status = \\'closed\\'\\n        \\nclass SecurityDoor(Door,):\\n    colour = \\'pink\\'',\n",
       "  \"t = Door(1, 'o')\",\n",
       "  \"t = {'number':1, 'status': pink}\",\n",
       "  't = Door(**)',\n",
       "  'd = Door(t**)',\n",
       "  't = Door(**t)',\n",
       "  't = Door(*t)',\n",
       "  't = Door(t**)',\n",
       "  'class Door: # 클래스 변수\\n    colour = \\'brown\\'\\n\\n    def __init__(self, number, status): #__init__ 생성자. 인스턴스화할 때 많이 불리고, 값을 초기화할 때 사용된다\\n        self.number = number            # (self,number,status) 클래스에서는 3개, 메소드에서는 2개 (첫 번째 인자 사용 x)\\n        self.status = status\\n\\n    @classmethod\\n    def knock(self):\\n        print(\"Knock!\")\\n\\n    @classmethod\\n    def paint(self, colour):\\n        self.colour = colour\\n        \\n    @classmethod\\n    def paint2(self, number):\\n        self.number = number\\n\\n    def open(self):\\n        self.status = \\'open\\'\\n        \\n    def close(self):\\n        self.status = \\'closed\\'\\n        \\nclass SecurityDoor(Door,):\\n    colour = \\'pink\\'',\n",
       "  'SecurityDoor.__mro__',\n",
       "  \"t = Door(1, 'o')\",\n",
       "  \"t = Door(1, 'o') # 클래스는 사용하기 위해 기본적으로 인스턴스화를 시킨다\\n                 # 객체에 정의된 메소드를 사용하기 위해\\n                 # dir(t) 로 정의된 메소드 확인\",\n",
       "  'dir(t)',\n",
       "  'class Door: \\n    \\'\\'\\'배고파\\'\\'\\'\\n    colour = \\'brown\\'\\n\\n    def __init__(self, number, status): #__init__ 생성자. 인스턴스화할 때 많이 불리고, 값을 초기화할 때 사용된다\\n        self.number = number            # (self,number,status) 클래스에서는 3개, 메소드에서는 2개 (첫 번째 인자 사용 x)\\n        self.status = status\\n\\n    @classmethod\\n    def knock(self):\\n        print(\"Knock!\")\\n\\n    @classmethod\\n    def paint(self, colour):\\n        self.colour = colour\\n        \\n    @classmethod\\n    def paint2(self, number):\\n        self.number = number\\n\\n    def open(self):\\n        self.status = \\'open\\'\\n        \\n    def close(self):\\n        self.status = \\'closed\\'\\n        \\nclass SecurityDoor(Door,):\\n    colour = \\'pink\\'',\n",
       "  \"t = Door(1, 'o')\",\n",
       "  \"t = Door(1, 'o') #여기서 (__doc__)메소드는 클래스에만 쓰임\",\n",
       "  't.knock()\\n# 인스턴스에서 뭐가 없으면 클래스에서 찾는다',\n",
       "  'class Door: \\n    \\'\\'\\'배고파\\'\\'\\'\\n    colour = \\'brown\\'\\n\\n    def __init__(self, number, status): #__init__ 생성자. 인스턴스화할 때 많이 불리고, 값을 초기화할 때 사용된다\\n        self.number = number            # (self,number,status) 클래스에서는 3개, 메소드에서는 2개 (첫 번째 인자 사용 x)\\n        self.status = status\\n\\n    @classmethod\\n    def knock(self):\\n        \\'\\'\\'배고프다고\\'\\'\\'\\n        print(\"Knock!\")\\n\\n    @classmethod\\n    def paint(self, colour):\\n        self.colour = colour\\n        \\n    @classmethod\\n    def paint2(self, number):\\n        self.number = number\\n\\n    def open(self):\\n        self.status = \\'open\\'\\n        \\n    def close(self):\\n        self.status = \\'closed\\'\\n        \\nclass SecurityDoor(Door,):\\n    colour = \\'pink\\'',\n",
       "  'class Door: \\n    \\'\\'\\'배고파\\'\\'\\'\\n    colour = \\'brown\\'\\n\\n    def __init__(self, number, status): #__init__ 생성자. 인스턴스화할 때 많이 불리고, 값을 초기화할 때 사용된다\\n        self.number = number            # (self,number,status) 클래스에서는 3개, 메소드에서는 2개 (첫 번째 인자 사용 x)\\n        self.status = status\\n\\n    @classmethod\\n    def knock(self):\\n        print(\"Knock!\")\\n\\n    @classmethod\\n    def paint(self, colour):\\n        self.colour = colour\\n        \\n    @classmethod\\n    def paint2(self, number):\\n        self.number = number\\n\\n    def open(self):\\n        self.status = \\'open\\'\\n        \\n    def close(self):\\n        self.status = \\'closed\\'\\n        \\nclass SecurityDoor(Door,):\\n    colour = \\'pink\\'',\n",
       "  \"t = Door(1, 'o') #여기서 (__doc__)메소드는 클래스에만 쓰임\",\n",
       "  \"t.paint('red') # paint는 클래스 메소드\\n               # 인스턴스변수처럼 보이지만 클래스 메소드를 붙이는 순간 얘를 실행하면 클래스 변수라고 함\",\n",
       "  \"t = Door(1, 'o')\",\n",
       "  't.knock()',\n",
       "  '# 클래스 변수를 붙이면 인스턴스 값 수정 못함. 클래스 값만 수정해야',\n",
       "  'Door.colour',\n",
       "  'vars(t)',\n",
       "  'vars(t) #인스턴스를 넣으면 인스턴스 변수에 대해 알려준다',\n",
       "  '# __dict__가 없으면 vars 정의 x',\n",
       "  '# __dict__가 없으면 vars 정의 x\\nvars()'],\n",
       " '_oh': {11: (__main__.SecurityDoor, __main__.Door, object),\n",
       "  14: ['__class__',\n",
       "   '__delattr__',\n",
       "   '__dict__',\n",
       "   '__dir__',\n",
       "   '__doc__',\n",
       "   '__eq__',\n",
       "   '__format__',\n",
       "   '__ge__',\n",
       "   '__getattribute__',\n",
       "   '__gt__',\n",
       "   '__hash__',\n",
       "   '__init__',\n",
       "   '__init_subclass__',\n",
       "   '__le__',\n",
       "   '__lt__',\n",
       "   '__module__',\n",
       "   '__ne__',\n",
       "   '__new__',\n",
       "   '__reduce__',\n",
       "   '__reduce_ex__',\n",
       "   '__repr__',\n",
       "   '__setattr__',\n",
       "   '__sizeof__',\n",
       "   '__str__',\n",
       "   '__subclasshook__',\n",
       "   '__weakref__',\n",
       "   'close',\n",
       "   'colour',\n",
       "   'knock',\n",
       "   'number',\n",
       "   'open',\n",
       "   'paint',\n",
       "   'paint2',\n",
       "   'status'],\n",
       "  26: 'red',\n",
       "  27: {'number': 1, 'status': 'o'},\n",
       "  28: {'number': 1, 'status': 'o'}},\n",
       " '_dh': ['C:\\\\Users\\\\SAMSUNG'],\n",
       " 'In': ['',\n",
       "  'class Door: # 클래스 변수\\n    colour = \\'brown\\'\\n\\n    def __init__(self, number, status): #__init__ 생성자. 인스턴스화할 때 많이 불리고, 값을 초기화할 때 사용된다\\n        self.number = number\\n        self.status = status\\n\\n    @classmethod\\n    def knock(self):\\n        print(\"Knock!\")\\n\\n    @classmethod\\n    def paint(self, colour):\\n        self.colour = colour\\n        \\n    @classmethod\\n    def paint2(self, number):\\n        self.number = number\\n\\n    def open(self):\\n        self.status = \\'open\\'\\n        \\n    def close(self):\\n        self.status = \\'closed\\'\\n        \\nclass SecurityDoor(Door,):\\n    colour = \\'pink\\'',\n",
       "  'class Door: # 클래스 변수\\n    colour = \\'brown\\'\\n\\n    def __init__(self, number, status): #__init__ 생성자. 인스턴스화할 때 많이 불리고, 값을 초기화할 때 사용된다\\n        self.number = number            # (self,number,status) 클래스에서는 3개, 메소드에서는 2개 (첫 번째 인자 사용 x)\\n        self.status = status\\n\\n    @classmethod\\n    def knock(self):\\n        print(\"Knock!\")\\n\\n    @classmethod\\n    def paint(self, colour):\\n        self.colour = colour\\n        \\n    @classmethod\\n    def paint2(self, number):\\n        self.number = number\\n\\n    def open(self):\\n        self.status = \\'open\\'\\n        \\n    def close(self):\\n        self.status = \\'closed\\'\\n        \\nclass SecurityDoor(Door,):\\n    colour = \\'pink\\'',\n",
       "  \"t = Door(1, 'o')\",\n",
       "  \"t = {'number':1, 'status': pink}\",\n",
       "  't = Door(**)',\n",
       "  'd = Door(t**)',\n",
       "  't = Door(**t)',\n",
       "  't = Door(*t)',\n",
       "  't = Door(t**)',\n",
       "  'class Door: # 클래스 변수\\n    colour = \\'brown\\'\\n\\n    def __init__(self, number, status): #__init__ 생성자. 인스턴스화할 때 많이 불리고, 값을 초기화할 때 사용된다\\n        self.number = number            # (self,number,status) 클래스에서는 3개, 메소드에서는 2개 (첫 번째 인자 사용 x)\\n        self.status = status\\n\\n    @classmethod\\n    def knock(self):\\n        print(\"Knock!\")\\n\\n    @classmethod\\n    def paint(self, colour):\\n        self.colour = colour\\n        \\n    @classmethod\\n    def paint2(self, number):\\n        self.number = number\\n\\n    def open(self):\\n        self.status = \\'open\\'\\n        \\n    def close(self):\\n        self.status = \\'closed\\'\\n        \\nclass SecurityDoor(Door,):\\n    colour = \\'pink\\'',\n",
       "  'SecurityDoor.__mro__',\n",
       "  \"t = Door(1, 'o')\",\n",
       "  \"t = Door(1, 'o') # 클래스는 사용하기 위해 기본적으로 인스턴스화를 시킨다\\n                 # 객체에 정의된 메소드를 사용하기 위해\\n                 # dir(t) 로 정의된 메소드 확인\",\n",
       "  'dir(t)',\n",
       "  'class Door: \\n    \\'\\'\\'배고파\\'\\'\\'\\n    colour = \\'brown\\'\\n\\n    def __init__(self, number, status): #__init__ 생성자. 인스턴스화할 때 많이 불리고, 값을 초기화할 때 사용된다\\n        self.number = number            # (self,number,status) 클래스에서는 3개, 메소드에서는 2개 (첫 번째 인자 사용 x)\\n        self.status = status\\n\\n    @classmethod\\n    def knock(self):\\n        print(\"Knock!\")\\n\\n    @classmethod\\n    def paint(self, colour):\\n        self.colour = colour\\n        \\n    @classmethod\\n    def paint2(self, number):\\n        self.number = number\\n\\n    def open(self):\\n        self.status = \\'open\\'\\n        \\n    def close(self):\\n        self.status = \\'closed\\'\\n        \\nclass SecurityDoor(Door,):\\n    colour = \\'pink\\'',\n",
       "  \"t = Door(1, 'o')\",\n",
       "  \"t = Door(1, 'o') #여기서 (__doc__)메소드는 클래스에만 쓰임\",\n",
       "  't.knock()\\n# 인스턴스에서 뭐가 없으면 클래스에서 찾는다',\n",
       "  'class Door: \\n    \\'\\'\\'배고파\\'\\'\\'\\n    colour = \\'brown\\'\\n\\n    def __init__(self, number, status): #__init__ 생성자. 인스턴스화할 때 많이 불리고, 값을 초기화할 때 사용된다\\n        self.number = number            # (self,number,status) 클래스에서는 3개, 메소드에서는 2개 (첫 번째 인자 사용 x)\\n        self.status = status\\n\\n    @classmethod\\n    def knock(self):\\n        \\'\\'\\'배고프다고\\'\\'\\'\\n        print(\"Knock!\")\\n\\n    @classmethod\\n    def paint(self, colour):\\n        self.colour = colour\\n        \\n    @classmethod\\n    def paint2(self, number):\\n        self.number = number\\n\\n    def open(self):\\n        self.status = \\'open\\'\\n        \\n    def close(self):\\n        self.status = \\'closed\\'\\n        \\nclass SecurityDoor(Door,):\\n    colour = \\'pink\\'',\n",
       "  'class Door: \\n    \\'\\'\\'배고파\\'\\'\\'\\n    colour = \\'brown\\'\\n\\n    def __init__(self, number, status): #__init__ 생성자. 인스턴스화할 때 많이 불리고, 값을 초기화할 때 사용된다\\n        self.number = number            # (self,number,status) 클래스에서는 3개, 메소드에서는 2개 (첫 번째 인자 사용 x)\\n        self.status = status\\n\\n    @classmethod\\n    def knock(self):\\n        print(\"Knock!\")\\n\\n    @classmethod\\n    def paint(self, colour):\\n        self.colour = colour\\n        \\n    @classmethod\\n    def paint2(self, number):\\n        self.number = number\\n\\n    def open(self):\\n        self.status = \\'open\\'\\n        \\n    def close(self):\\n        self.status = \\'closed\\'\\n        \\nclass SecurityDoor(Door,):\\n    colour = \\'pink\\'',\n",
       "  \"t = Door(1, 'o') #여기서 (__doc__)메소드는 클래스에만 쓰임\",\n",
       "  \"t.paint('red') # paint는 클래스 메소드\\n               # 인스턴스변수처럼 보이지만 클래스 메소드를 붙이는 순간 얘를 실행하면 클래스 변수라고 함\",\n",
       "  \"t = Door(1, 'o')\",\n",
       "  't.knock()',\n",
       "  '# 클래스 변수를 붙이면 인스턴스 값 수정 못함. 클래스 값만 수정해야',\n",
       "  'Door.colour',\n",
       "  'vars(t)',\n",
       "  'vars(t) #인스턴스를 넣으면 인스턴스 변수에 대해 알려준다',\n",
       "  '# __dict__가 없으면 vars 정의 x',\n",
       "  '# __dict__가 없으면 vars 정의 x\\nvars()'],\n",
       " 'Out': {11: (__main__.SecurityDoor, __main__.Door, object),\n",
       "  14: ['__class__',\n",
       "   '__delattr__',\n",
       "   '__dict__',\n",
       "   '__dir__',\n",
       "   '__doc__',\n",
       "   '__eq__',\n",
       "   '__format__',\n",
       "   '__ge__',\n",
       "   '__getattribute__',\n",
       "   '__gt__',\n",
       "   '__hash__',\n",
       "   '__init__',\n",
       "   '__init_subclass__',\n",
       "   '__le__',\n",
       "   '__lt__',\n",
       "   '__module__',\n",
       "   '__ne__',\n",
       "   '__new__',\n",
       "   '__reduce__',\n",
       "   '__reduce_ex__',\n",
       "   '__repr__',\n",
       "   '__setattr__',\n",
       "   '__sizeof__',\n",
       "   '__str__',\n",
       "   '__subclasshook__',\n",
       "   '__weakref__',\n",
       "   'close',\n",
       "   'colour',\n",
       "   'knock',\n",
       "   'number',\n",
       "   'open',\n",
       "   'paint',\n",
       "   'paint2',\n",
       "   'status'],\n",
       "  26: 'red',\n",
       "  27: {'number': 1, 'status': 'o'},\n",
       "  28: {'number': 1, 'status': 'o'}},\n",
       " 'get_ipython': <bound method InteractiveShell.get_ipython of <ipykernel.zmqshell.ZMQInteractiveShell object at 0x000000B03BC55278>>,\n",
       " 'exit': <IPython.core.autocall.ZMQExitAutocall at 0xb03e6c0748>,\n",
       " 'quit': <IPython.core.autocall.ZMQExitAutocall at 0xb03e6c0748>,\n",
       " '_': {'number': 1, 'status': 'o'},\n",
       " '__': {'number': 1, 'status': 'o'},\n",
       " '___': 'red',\n",
       " 'json': <module 'json' from 'C:\\\\Users\\\\SAMSUNG\\\\Anaconda3\\\\lib\\\\json\\\\__init__.py'>,\n",
       " 'autopep8': <module 'autopep8' from 'C:\\\\Users\\\\SAMSUNG\\\\Anaconda3\\\\lib\\\\site-packages\\\\autopep8.py'>,\n",
       " '_i': '# __dict__가 없으면 vars 정의 x',\n",
       " '_ii': 'vars(t) #인스턴스를 넣으면 인스턴스 변수에 대해 알려준다',\n",
       " '_iii': 'vars(t)',\n",
       " '_i1': 'class Door: # 클래스 변수\\n    colour = \\'brown\\'\\n\\n    def __init__(self, number, status): #__init__ 생성자. 인스턴스화할 때 많이 불리고, 값을 초기화할 때 사용된다\\n        self.number = number\\n        self.status = status\\n\\n    @classmethod\\n    def knock(self):\\n        print(\"Knock!\")\\n\\n    @classmethod\\n    def paint(self, colour):\\n        self.colour = colour\\n        \\n    @classmethod\\n    def paint2(self, number):\\n        self.number = number\\n\\n    def open(self):\\n        self.status = \\'open\\'\\n        \\n    def close(self):\\n        self.status = \\'closed\\'\\n        \\nclass SecurityDoor(Door,):\\n    colour = \\'pink\\'',\n",
       " 'Door': __main__.Door,\n",
       " 'SecurityDoor': __main__.SecurityDoor,\n",
       " '_i2': 'class Door: # 클래스 변수\\n    colour = \\'brown\\'\\n\\n    def __init__(self, number, status): #__init__ 생성자. 인스턴스화할 때 많이 불리고, 값을 초기화할 때 사용된다\\n        self.number = number            # (self,number,status) 클래스에서는 3개, 메소드에서는 2개 (첫 번째 인자 사용 x)\\n        self.status = status\\n\\n    @classmethod\\n    def knock(self):\\n        print(\"Knock!\")\\n\\n    @classmethod\\n    def paint(self, colour):\\n        self.colour = colour\\n        \\n    @classmethod\\n    def paint2(self, number):\\n        self.number = number\\n\\n    def open(self):\\n        self.status = \\'open\\'\\n        \\n    def close(self):\\n        self.status = \\'closed\\'\\n        \\nclass SecurityDoor(Door,):\\n    colour = \\'pink\\'',\n",
       " '_i3': \"t = Door(1, 'o')\",\n",
       " 't': <__main__.Door at 0xb03ee6bc50>,\n",
       " '_i4': \"t = {'number':1, 'status': pink}\",\n",
       " '_i5': 't = Door(**)',\n",
       " '_i6': 'd = Door(t**)',\n",
       " '_i7': 't = Door(**t)',\n",
       " '_i8': 't = Door(*t)',\n",
       " '_i9': 't = Door(t**)',\n",
       " '_i10': 'class Door: # 클래스 변수\\n    colour = \\'brown\\'\\n\\n    def __init__(self, number, status): #__init__ 생성자. 인스턴스화할 때 많이 불리고, 값을 초기화할 때 사용된다\\n        self.number = number            # (self,number,status) 클래스에서는 3개, 메소드에서는 2개 (첫 번째 인자 사용 x)\\n        self.status = status\\n\\n    @classmethod\\n    def knock(self):\\n        print(\"Knock!\")\\n\\n    @classmethod\\n    def paint(self, colour):\\n        self.colour = colour\\n        \\n    @classmethod\\n    def paint2(self, number):\\n        self.number = number\\n\\n    def open(self):\\n        self.status = \\'open\\'\\n        \\n    def close(self):\\n        self.status = \\'closed\\'\\n        \\nclass SecurityDoor(Door,):\\n    colour = \\'pink\\'',\n",
       " '_i11': 'SecurityDoor.__mro__',\n",
       " '_11': (__main__.SecurityDoor, __main__.Door, object),\n",
       " '_i12': \"t = Door(1, 'o')\",\n",
       " '_i13': \"t = Door(1, 'o') # 클래스는 사용하기 위해 기본적으로 인스턴스화를 시킨다\\n                 # 객체에 정의된 메소드를 사용하기 위해\\n                 # dir(t) 로 정의된 메소드 확인\",\n",
       " '_i14': 'dir(t)',\n",
       " '_14': ['__class__',\n",
       "  '__delattr__',\n",
       "  '__dict__',\n",
       "  '__dir__',\n",
       "  '__doc__',\n",
       "  '__eq__',\n",
       "  '__format__',\n",
       "  '__ge__',\n",
       "  '__getattribute__',\n",
       "  '__gt__',\n",
       "  '__hash__',\n",
       "  '__init__',\n",
       "  '__init_subclass__',\n",
       "  '__le__',\n",
       "  '__lt__',\n",
       "  '__module__',\n",
       "  '__ne__',\n",
       "  '__new__',\n",
       "  '__reduce__',\n",
       "  '__reduce_ex__',\n",
       "  '__repr__',\n",
       "  '__setattr__',\n",
       "  '__sizeof__',\n",
       "  '__str__',\n",
       "  '__subclasshook__',\n",
       "  '__weakref__',\n",
       "  'close',\n",
       "  'colour',\n",
       "  'knock',\n",
       "  'number',\n",
       "  'open',\n",
       "  'paint',\n",
       "  'paint2',\n",
       "  'status'],\n",
       " '_i15': 'class Door: \\n    \\'\\'\\'배고파\\'\\'\\'\\n    colour = \\'brown\\'\\n\\n    def __init__(self, number, status): #__init__ 생성자. 인스턴스화할 때 많이 불리고, 값을 초기화할 때 사용된다\\n        self.number = number            # (self,number,status) 클래스에서는 3개, 메소드에서는 2개 (첫 번째 인자 사용 x)\\n        self.status = status\\n\\n    @classmethod\\n    def knock(self):\\n        print(\"Knock!\")\\n\\n    @classmethod\\n    def paint(self, colour):\\n        self.colour = colour\\n        \\n    @classmethod\\n    def paint2(self, number):\\n        self.number = number\\n\\n    def open(self):\\n        self.status = \\'open\\'\\n        \\n    def close(self):\\n        self.status = \\'closed\\'\\n        \\nclass SecurityDoor(Door,):\\n    colour = \\'pink\\'',\n",
       " '_i16': \"t = Door(1, 'o')\",\n",
       " '_i17': \"t = Door(1, 'o') #여기서 (__doc__)메소드는 클래스에만 쓰임\",\n",
       " '_i18': 't.knock()\\n# 인스턴스에서 뭐가 없으면 클래스에서 찾는다',\n",
       " '_i19': 'class Door: \\n    \\'\\'\\'배고파\\'\\'\\'\\n    colour = \\'brown\\'\\n\\n    def __init__(self, number, status): #__init__ 생성자. 인스턴스화할 때 많이 불리고, 값을 초기화할 때 사용된다\\n        self.number = number            # (self,number,status) 클래스에서는 3개, 메소드에서는 2개 (첫 번째 인자 사용 x)\\n        self.status = status\\n\\n    @classmethod\\n    def knock(self):\\n        \\'\\'\\'배고프다고\\'\\'\\'\\n        print(\"Knock!\")\\n\\n    @classmethod\\n    def paint(self, colour):\\n        self.colour = colour\\n        \\n    @classmethod\\n    def paint2(self, number):\\n        self.number = number\\n\\n    def open(self):\\n        self.status = \\'open\\'\\n        \\n    def close(self):\\n        self.status = \\'closed\\'\\n        \\nclass SecurityDoor(Door,):\\n    colour = \\'pink\\'',\n",
       " '_i20': 'class Door: \\n    \\'\\'\\'배고파\\'\\'\\'\\n    colour = \\'brown\\'\\n\\n    def __init__(self, number, status): #__init__ 생성자. 인스턴스화할 때 많이 불리고, 값을 초기화할 때 사용된다\\n        self.number = number            # (self,number,status) 클래스에서는 3개, 메소드에서는 2개 (첫 번째 인자 사용 x)\\n        self.status = status\\n\\n    @classmethod\\n    def knock(self):\\n        print(\"Knock!\")\\n\\n    @classmethod\\n    def paint(self, colour):\\n        self.colour = colour\\n        \\n    @classmethod\\n    def paint2(self, number):\\n        self.number = number\\n\\n    def open(self):\\n        self.status = \\'open\\'\\n        \\n    def close(self):\\n        self.status = \\'closed\\'\\n        \\nclass SecurityDoor(Door,):\\n    colour = \\'pink\\'',\n",
       " '_i21': \"t = Door(1, 'o') #여기서 (__doc__)메소드는 클래스에만 쓰임\",\n",
       " '_i22': \"t.paint('red') # paint는 클래스 메소드\\n               # 인스턴스변수처럼 보이지만 클래스 메소드를 붙이는 순간 얘를 실행하면 클래스 변수라고 함\",\n",
       " '_i23': \"t = Door(1, 'o')\",\n",
       " '_i24': 't.knock()',\n",
       " '_i25': '# 클래스 변수를 붙이면 인스턴스 값 수정 못함. 클래스 값만 수정해야',\n",
       " '_i26': 'Door.colour',\n",
       " '_26': 'red',\n",
       " '_i27': 'vars(t)',\n",
       " '_27': {'number': 1, 'status': 'o'},\n",
       " '_i28': 'vars(t) #인스턴스를 넣으면 인스턴스 변수에 대해 알려준다',\n",
       " '_28': {'number': 1, 'status': 'o'},\n",
       " '_i29': '# __dict__가 없으면 vars 정의 x',\n",
       " '_i30': '# __dict__가 없으면 vars 정의 x\\nvars()'}"
      ]
     },
     "execution_count": 30,
     "metadata": {},
     "output_type": "execute_result"
    }
   ],
   "source": [
    "# __dict__가 없으면 vars 정의 x\n",
    "vars()"
   ]
  },
  {
   "cell_type": "code",
   "execution_count": 40,
   "metadata": {},
   "outputs": [
    {
     "data": {
      "text/plain": [
       "'yello'"
      ]
     },
     "execution_count": 40,
     "metadata": {},
     "output_type": "execute_result"
    }
   ],
   "source": [
    "t.colour"
   ]
  },
  {
   "cell_type": "code",
   "execution_count": 41,
   "metadata": {},
   "outputs": [],
   "source": [
    "Door.paint('yello')"
   ]
  },
  {
   "cell_type": "code",
   "execution_count": 42,
   "metadata": {},
   "outputs": [],
   "source": [
    "t.paint2(3)"
   ]
  },
  {
   "cell_type": "code",
   "execution_count": 43,
   "metadata": {},
   "outputs": [
    {
     "data": {
      "text/plain": [
       "{'number': 1, 'status': 'o'}"
      ]
     },
     "execution_count": 43,
     "metadata": {},
     "output_type": "execute_result"
    }
   ],
   "source": [
    "vars(t)"
   ]
  },
  {
   "cell_type": "code",
   "execution_count": 44,
   "metadata": {},
   "outputs": [
    {
     "data": {
      "text/plain": [
       "3"
      ]
     },
     "execution_count": 44,
     "metadata": {},
     "output_type": "execute_result"
    }
   ],
   "source": [
    "Door.number"
   ]
  },
  {
   "cell_type": "markdown",
   "metadata": {},
   "source": [
    "where we declare a new class `SecurityDoor` that, at the moment, is a perfect copy of the `Door` class. Let us investigate what happens when we access attributes and methods. First we instance the class"
   ]
  },
  {
   "cell_type": "code",
   "execution_count": 63,
   "metadata": {},
   "outputs": [],
   "source": [
    "sdoor = SecurityDoor(1, 'closed')"
   ]
  },
  {
   "cell_type": "markdown",
   "metadata": {},
   "source": [
    "The first check we can do is that class attributes are still global and shared"
   ]
  },
  {
   "cell_type": "code",
   "execution_count": 46,
   "metadata": {},
   "outputs": [
    {
     "name": "stdout",
     "output_type": "stream",
     "text": [
      "False\n"
     ]
    }
   ],
   "source": [
    "print(SecurityDoor.colour is Door.colour)"
   ]
  },
  {
   "cell_type": "code",
   "execution_count": 47,
   "metadata": {},
   "outputs": [
    {
     "name": "stdout",
     "output_type": "stream",
     "text": [
      "False\n"
     ]
    }
   ],
   "source": [
    "print(sdoor.colour is Door.colour)"
   ]
  },
  {
   "cell_type": "markdown",
   "metadata": {},
   "source": [
    "This shows us that Python tries to resolve instance members not only looking into the class the instance comes from, but also investigating the parent classes. In this case `sdoor.colour` becomes `SecurityDoor.colour`, that in turn becomes `Door.colour`. `SecurityDoor` _is_ a `Door`.\n",
    "\n",
    "If we investigate the content of `__dict__` we can catch a glimpse of the inheritance mechanism in action"
   ]
  },
  {
   "cell_type": "code",
   "execution_count": 48,
   "metadata": {},
   "outputs": [
    {
     "name": "stdout",
     "output_type": "stream",
     "text": [
      "{'number': 1, 'status': 'closed'}\n"
     ]
    }
   ],
   "source": [
    "print(sdoor.__dict__)"
   ]
  },
  {
   "cell_type": "code",
   "execution_count": 49,
   "metadata": {},
   "outputs": [
    {
     "name": "stdout",
     "output_type": "stream",
     "text": [
      "<class 'mappingproxy'>\n",
      "{'__module__': '__main__', 'colour': 'pink', '__doc__': None}\n"
     ]
    }
   ],
   "source": [
    "print(type(sdoor.__class__.__dict__))\n",
    "print(sdoor.__class__.__dict__)"
   ]
  },
  {
   "cell_type": "code",
   "execution_count": 50,
   "metadata": {},
   "outputs": [
    {
     "data": {
      "text/plain": [
       "mappingproxy({'__module__': '__main__',\n",
       "              '__doc__': '배고파',\n",
       "              'colour': 'yello',\n",
       "              '__init__': <function __main__.Door.__init__(self, number, status)>,\n",
       "              'knock': <classmethod at 0xb03ef17dd8>,\n",
       "              'paint': <classmethod at 0xb03ef17e48>,\n",
       "              'paint2': <classmethod at 0xb03ef17e10>,\n",
       "              'open': <function __main__.Door.open(self)>,\n",
       "              'close': <function __main__.Door.close(self)>,\n",
       "              '__dict__': <attribute '__dict__' of 'Door' objects>,\n",
       "              '__weakref__': <attribute '__weakref__' of 'Door' objects>,\n",
       "              'number': 3})"
      ]
     },
     "execution_count": 50,
     "metadata": {},
     "output_type": "execute_result"
    }
   ],
   "source": [
    "vars(Door)"
   ]
  },
  {
   "cell_type": "code",
   "execution_count": 51,
   "metadata": {},
   "outputs": [
    {
     "name": "stdout",
     "output_type": "stream",
     "text": [
      "<class 'mappingproxy'>\n",
      "{'__module__': '__main__', '__doc__': '배고파', 'colour': 'yello', '__init__': <function Door.__init__ at 0x000000B03EEF2D90>, 'knock': <classmethod object at 0x000000B03EF17DD8>, 'paint': <classmethod object at 0x000000B03EF17E48>, 'paint2': <classmethod object at 0x000000B03EF17E10>, 'open': <function Door.open at 0x000000B03EF2C048>, 'close': <function Door.close at 0x000000B03EF2C0D0>, '__dict__': <attribute '__dict__' of 'Door' objects>, '__weakref__': <attribute '__weakref__' of 'Door' objects>, 'number': 3}\n"
     ]
    }
   ],
   "source": [
    "print(type(Door.__dict__))\n",
    "print(Door.__dict__)"
   ]
  },
  {
   "cell_type": "markdown",
   "metadata": {},
   "source": [
    "As you can see the content of `__dict__` for `SecurityDoor` is very narrow compared to that of `Door`. The inheritance mechanism takes care of the missing elements by climbing up the classes tree. Where does Python get the parent classes? A class always contains a `__bases__` tuple that lists them"
   ]
  },
  {
   "cell_type": "code",
   "execution_count": 52,
   "metadata": {},
   "outputs": [
    {
     "name": "stdout",
     "output_type": "stream",
     "text": [
      "(<class '__main__.Door'>,)\n"
     ]
    }
   ],
   "source": [
    "print(SecurityDoor.__bases__)"
   ]
  },
  {
   "cell_type": "code",
   "execution_count": 68,
   "metadata": {},
   "outputs": [],
   "source": [
    "t = sdoor.__class__.__bases__[0].__dict__['knock']"
   ]
  },
  {
   "cell_type": "markdown",
   "metadata": {},
   "source": [
    "So an example of what Python does to resolve a class method call through the inheritance tree is"
   ]
  },
  {
   "cell_type": "code",
   "execution_count": 69,
   "metadata": {},
   "outputs": [
    {
     "data": {
      "text/plain": [
       "<classmethod at 0xb03ef17dd8>"
      ]
     },
     "execution_count": 69,
     "metadata": {},
     "output_type": "execute_result"
    }
   ],
   "source": [
    "sdoor.__class__.__bases__[0].__dict__['knock']\n",
    "# securitydoor . \n",
    "# ->프락시"
   ]
  },
  {
   "cell_type": "code",
   "execution_count": 70,
   "metadata": {},
   "outputs": [],
   "source": [
    "s = t.__get__(sdoor)"
   ]
  },
  {
   "cell_type": "code",
   "execution_count": 71,
   "metadata": {},
   "outputs": [
    {
     "data": {
      "text/plain": [
       "['__call__',\n",
       " '__class__',\n",
       " '__delattr__',\n",
       " '__dir__',\n",
       " '__doc__',\n",
       " '__eq__',\n",
       " '__format__',\n",
       " '__func__',\n",
       " '__ge__',\n",
       " '__get__',\n",
       " '__getattribute__',\n",
       " '__gt__',\n",
       " '__hash__',\n",
       " '__init__',\n",
       " '__init_subclass__',\n",
       " '__le__',\n",
       " '__lt__',\n",
       " '__ne__',\n",
       " '__new__',\n",
       " '__reduce__',\n",
       " '__reduce_ex__',\n",
       " '__repr__',\n",
       " '__self__',\n",
       " '__setattr__',\n",
       " '__sizeof__',\n",
       " '__str__',\n",
       " '__subclasshook__']"
      ]
     },
     "execution_count": 71,
     "metadata": {},
     "output_type": "execute_result"
    }
   ],
   "source": [
    "dir(s)"
   ]
  },
  {
   "cell_type": "code",
   "execution_count": 61,
   "metadata": {},
   "outputs": [
    {
     "name": "stdout",
     "output_type": "stream",
     "text": [
      "<bound method Door.knock of <class '__main__.SecurityDoor'>>\n"
     ]
    }
   ],
   "source": [
    "print(sdoor.__class__.__bases__[0].__dict__['knock'].__get__(sdoor))"
   ]
  },
  {
   "cell_type": "code",
   "execution_count": 72,
   "metadata": {},
   "outputs": [],
   "source": [
    "import matplotlib.pyplot as plt"
   ]
  },
  {
   "cell_type": "code",
   "execution_count": 75,
   "metadata": {},
   "outputs": [
    {
     "data": {
      "text/plain": [
       "251"
      ]
     },
     "execution_count": 75,
     "metadata": {},
     "output_type": "execute_result"
    }
   ],
   "source": [
    "len(dir(plt))"
   ]
  },
  {
   "cell_type": "code",
   "execution_count": null,
   "metadata": {},
   "outputs": [],
   "source": []
  },
  {
   "cell_type": "code",
   "execution_count": null,
   "metadata": {},
   "outputs": [],
   "source": []
  },
  {
   "cell_type": "code",
   "execution_count": 56,
   "metadata": {},
   "outputs": [
    {
     "name": "stdout",
     "output_type": "stream",
     "text": [
      "<bound method Door.knock of <class '__main__.SecurityDoor'>>\n"
     ]
    }
   ],
   "source": [
    "print(sdoor.knock)"
   ]
  },
  {
   "cell_type": "markdown",
   "metadata": {},
   "source": [
    "Please note that this is just an example that does not consider multiple inheritance.\n",
    "\n",
    "Let us try now to override some methods and attributes. In Python you can _override_ (redefine) a parent class member simply by redefining it in the child class."
   ]
  },
  {
   "cell_type": "code",
   "execution_count": 77,
   "metadata": {},
   "outputs": [],
   "source": [
    "class SecurityDoor(Door):\n",
    "    colour = 'gray'\n",
    "    locked = True\n",
    "    \n",
    "    def open(self): #builtin 에 있는 애라 옅게 초록색\n",
    "        if not self.locked:\n",
    "            self.status = 'open'"
   ]
  },
  {
   "cell_type": "code",
   "execution_count": 81,
   "metadata": {},
   "outputs": [],
   "source": [
    "class SecurityDoor(Door):\n",
    "    colour = 'gray'\n",
    "    locked = True\n",
    "    \n",
    "    def open(self): #builtin 에 있는 애라 옅게 초록색\n",
    "        if not self.locked:\n",
    "            # self.status = 'open' # 기능만 추가할 때는 super 쓰는게 좋다\n",
    "            super().open()"
   ]
  },
  {
   "cell_type": "code",
   "execution_count": 78,
   "metadata": {},
   "outputs": [
    {
     "data": {
      "text/plain": [
       "(__main__.SecurityDoor, __main__.Door, object)"
      ]
     },
     "execution_count": 78,
     "metadata": {},
     "output_type": "execute_result"
    }
   ],
   "source": [
    "SecurityDoor.__mro__"
   ]
  },
  {
   "cell_type": "markdown",
   "metadata": {},
   "source": [
    "As you can forecast, the overridden members now are present in the `__dict__` of the `SecurityDoor` class"
   ]
  },
  {
   "cell_type": "code",
   "execution_count": 39,
   "metadata": {},
   "outputs": [
    {
     "name": "stdout",
     "output_type": "stream",
     "text": [
      "<class 'mappingproxy'>\n",
      "{'__doc__': None, 'locked': True, '__module__': '__main__', 'open': <function SecurityDoor.open at 0xb48ee104>, 'colour': 'gray'}\n"
     ]
    }
   ],
   "source": [
    "print(type(SecurityDoor.__dict__))\n",
    "print(SecurityDoor.__dict__)"
   ]
  },
  {
   "cell_type": "markdown",
   "metadata": {},
   "source": [
    "So when you override a member, the one you put in the child class is used instead of the one in the parent class simply because the former is found before the latter while climbing the class hierarchy. This also shows you that Python does not implicitly call the parent implementation when you override a method. So, overriding is a way to block implicit delegation.\n",
    "\n",
    "If we want to call the parent implementation we have to do it explicitly. In the former example we could write"
   ]
  },
  {
   "cell_type": "code",
   "execution_count": 40,
   "metadata": {
    "collapsed": true
   },
   "outputs": [],
   "source": [
    "class SecurityDoor(Door):\n",
    "    colour = 'gray'\n",
    "    locked = True\n",
    "    \n",
    "    def open(self):\n",
    "        if self.locked:\n",
    "            return\n",
    "        Door.open(self)"
   ]
  },
  {
   "cell_type": "markdown",
   "metadata": {},
   "source": [
    "You can easily test that this implementation is working correctly."
   ]
  },
  {
   "cell_type": "code",
   "execution_count": 41,
   "metadata": {},
   "outputs": [
    {
     "name": "stdout",
     "output_type": "stream",
     "text": [
      "closed\n"
     ]
    }
   ],
   "source": [
    "sdoor = SecurityDoor(1, 'closed')\n",
    "print(sdoor.status)"
   ]
  },
  {
   "cell_type": "code",
   "execution_count": 42,
   "metadata": {},
   "outputs": [
    {
     "name": "stdout",
     "output_type": "stream",
     "text": [
      "closed\n"
     ]
    }
   ],
   "source": [
    "sdoor.open()\n",
    "print(sdoor.status)"
   ]
  },
  {
   "cell_type": "code",
   "execution_count": 43,
   "metadata": {},
   "outputs": [
    {
     "name": "stdout",
     "output_type": "stream",
     "text": [
      "open\n"
     ]
    }
   ],
   "source": [
    "sdoor.locked = False\n",
    "sdoor.open()\n",
    "print(sdoor.status)"
   ]
  },
  {
   "cell_type": "markdown",
   "metadata": {},
   "source": [
    "This form of explicit parent delegation is heavily discouraged, however.\n",
    "\n",
    "The first reason is because of the very high coupling that results from explicitly naming the parent class again when calling the method. _Coupling_, in the computer science lingo, means to link two parts of a system, so that changes in one of them directly affect the other one, and is usually avoided as much as possible. In this case if you decide to use a new parent class you have to manually propagate the change to every method that calls it. Moreover, since in Python the class hierarchy can be dynamically changed (i.e. at runtime), this form of explicit delegation could be not only annoying but also wrong.\n",
    "\n",
    "The second reason is that in general you need to deal with multiple inheritance, where you do not know a priori which parent class implements the original form of the method you are overriding.\n",
    "\n",
    "To solve these issues, Python supplies the `super()` built-in function, that climbs the class hierarchy and returns the correct class that shall be called. The syntax for calling `super()` is"
   ]
  },
  {
   "cell_type": "code",
   "execution_count": 44,
   "metadata": {
    "collapsed": true
   },
   "outputs": [],
   "source": [
    "class SecurityDoor(Door):\n",
    "    colour = 'gray'\n",
    "    locked = True\n",
    "    \n",
    "    def open(self):\n",
    "        if self.locked:\n",
    "            return\n",
    "        super().open()"
   ]
  },
  {
   "cell_type": "markdown",
   "metadata": {},
   "source": [
    "The output of `super()` is not exactly the `Door` class. It returns a `super` object which representation is `<super: <class 'SecurityDoor'>, <SecurityDoor object>>`. This object however acts like the parent class, so you can safely ignore its custom nature and use it just like you would do with the `Door` class in this case.\n",
    "\n",
    "## Enter the Composition\n",
    "#### composition : 합성(구성) 방식\n",
    "#### - 상속을 대신할 수 있다\n",
    "#### 원래 상속할 클래스를 인스턴스로 매 클래스에 집언넣는다 \n",
    "\n",
    "Composition means that an object knows another object, and explicitly delegates some tasks to it. While inheritance is implicit, composition is explicit: in Python, however, things are far more interesting than this =).\n",
    "\n",
    "First of all let us implement classic composition, which simply makes an object part of the other as an attribute"
   ]
  },
  {
   "cell_type": "code",
   "execution_count": 106,
   "metadata": {},
   "outputs": [],
   "source": [
    "s = SecurityDoor(1, 'open')"
   ]
  },
  {
   "cell_type": "code",
   "execution_count": 107,
   "metadata": {},
   "outputs": [
    {
     "ename": "AttributeError",
     "evalue": "'SecurityDoor' object has no attribute 'paint'",
     "output_type": "error",
     "traceback": [
      "\u001b[1;31m---------------------------------------------------------------------------\u001b[0m",
      "\u001b[1;31mAttributeError\u001b[0m                            Traceback (most recent call last)",
      "\u001b[1;32m<ipython-input-107-287dd004b120>\u001b[0m in \u001b[0;36m<module>\u001b[1;34m\u001b[0m\n\u001b[1;32m----> 1\u001b[1;33m \u001b[0ms\u001b[0m\u001b[1;33m.\u001b[0m\u001b[0mpaint\u001b[0m\u001b[1;33m(\u001b[0m\u001b[1;34m'pink'\u001b[0m\u001b[1;33m)\u001b[0m\u001b[1;33m\u001b[0m\u001b[1;33m\u001b[0m\u001b[0m\n\u001b[0m",
      "\u001b[1;31mAttributeError\u001b[0m: 'SecurityDoor' object has no attribute 'paint'"
     ]
    }
   ],
   "source": [
    "s.paint('pink')"
   ]
  },
  {
   "cell_type": "code",
   "execution_count": 117,
   "metadata": {},
   "outputs": [],
   "source": [
    "class SecurityDoor:\n",
    "    colour = 'gray'\n",
    "    locked = True\n",
    "    \n",
    "    def __init__(self, number, status):\n",
    "        self.door = Door(number, status)\n",
    "        # door라는 애를 인스턴스 객체로 가지고 있다\n",
    "    def open(self):\n",
    "        if self.locked:\n",
    "            return\n",
    "        self.door.open()\n",
    "        \n",
    "  \n",
    "        \n",
    "    def close(self):\n",
    "        self.door.close()"
   ]
  },
  {
   "cell_type": "code",
   "execution_count": null,
   "metadata": {},
   "outputs": [],
   "source": []
  },
  {
   "cell_type": "markdown",
   "metadata": {},
   "source": [
    "The primary goal of composition is to relax the coupling between objects. This little example shows that now `SecurityDoor` is an `object` and no more a `Door`, which means that the internal structure of `Door` is not copied. For this very simple example both `Door` and `SecurityDoor` are not big classes, but in a real system objects can very complex; this means that their allocation consumes a lot of memory and if a system contains thousands or millions of objects that could be an issue.\n",
    "\n",
    "The composed `SecurityDoor` has to redefine the `colour` attribute since the concept of delegation applies only to methods and not to attributes, doesn't it?\n",
    "\n",
    "Well, no. Python provides a very high degree of indirection for objects manipulation and attribute access is one of the most useful. As you already discovered, accessing attributes is ruled by a special method called `__getattribute__()` that is called whenever an attribute of the object is accessed. Overriding `__getattribute__()`, however, is overkill; it is a very complex method, and, being called on every attribute access, any change makes the whole thing slower.\n",
    "\n",
    "ㅐㅣ\n",
    "The method we have to leverage to delegate attribute access is `__getattr__()`, which is a special method that is called whenever the requested attribute is not found in the object. So basically it is the right place to dispatch all attribute and method access our object cannot handle. The previous example becomes"
   ]
  },
  {
   "cell_type": "code",
   "execution_count": null,
   "metadata": {},
   "outputs": [],
   "source": []
  },
  {
   "cell_type": "code",
   "execution_count": 118,
   "metadata": {},
   "outputs": [
    {
     "data": {
      "text/plain": [
       "mappingproxy({'__module__': '__main__',\n",
       "              'colour': 'gray',\n",
       "              'locked': True,\n",
       "              '__init__': <function __main__.SecurityDoor.__init__(self, number, status)>,\n",
       "              'open': <function __main__.SecurityDoor.open(self)>,\n",
       "              'close': <function __main__.SecurityDoor.close(self)>,\n",
       "              '__dict__': <attribute '__dict__' of 'SecurityDoor' objects>,\n",
       "              '__weakref__': <attribute '__weakref__' of 'SecurityDoor' objects>,\n",
       "              '__doc__': None})"
      ]
     },
     "execution_count": 118,
     "metadata": {},
     "output_type": "execute_result"
    }
   ],
   "source": [
    "vars(SecurityDoor)"
   ]
  },
  {
   "cell_type": "code",
   "execution_count": 119,
   "metadata": {},
   "outputs": [],
   "source": [
    "class SecurityDoor:\n",
    "    colour = 'black'\n",
    "    locked = True\n",
    "    \n",
    "    def __init__(self, number, status):\n",
    "        self.door = Door(number, status)\n",
    "        \n",
    "    def open(self):\n",
    "        if self.locked:\n",
    "            return\n",
    "        self.door.open()\n",
    "        \n",
    "    def __getattr__(self, attr):\n",
    "        print('지훈')\n",
    "        return getattr(self.door, attr)"
   ]
  },
  {
   "cell_type": "code",
   "execution_count": 123,
   "metadata": {},
   "outputs": [],
   "source": [
    "s = SecurityDoor(1, 'open')"
   ]
  },
  {
   "cell_type": "code",
   "execution_count": 124,
   "metadata": {},
   "outputs": [
    {
     "data": {
      "text/plain": [
       "'black'"
      ]
     },
     "execution_count": 124,
     "metadata": {},
     "output_type": "execute_result"
    }
   ],
   "source": [
    "s.colour"
   ]
  },
  {
   "cell_type": "code",
   "execution_count": 125,
   "metadata": {},
   "outputs": [
    {
     "name": "stdout",
     "output_type": "stream",
     "text": [
      "지훈\n"
     ]
    }
   ],
   "source": [
    "s.paint('pink')"
   ]
  },
  {
   "cell_type": "code",
   "execution_count": 126,
   "metadata": {},
   "outputs": [
    {
     "data": {
      "text/plain": [
       "'black'"
      ]
     },
     "execution_count": 126,
     "metadata": {},
     "output_type": "execute_result"
    }
   ],
   "source": [
    "s.colour"
   ]
  },
  {
   "cell_type": "markdown",
   "metadata": {},
   "source": [
    "Using `__getattr__()` blends the separation line between inheritance and composition since after all the former is a form of automatic delegation of every member access."
   ]
  },
  {
   "cell_type": "code",
   "execution_count": 97,
   "metadata": {},
   "outputs": [],
   "source": [
    "class X:\n",
    "    def __getattr__(self,attr):\n",
    "        return '지훈'"
   ]
  },
  {
   "cell_type": "code",
   "execution_count": 98,
   "metadata": {},
   "outputs": [],
   "source": [
    "a = X()"
   ]
  },
  {
   "cell_type": "code",
   "execution_count": 87,
   "metadata": {},
   "outputs": [
    {
     "data": {
      "text/plain": [
       "['__class__',\n",
       " '__delattr__',\n",
       " '__dict__',\n",
       " '__dir__',\n",
       " '__doc__',\n",
       " '__eq__',\n",
       " '__format__',\n",
       " '__ge__',\n",
       " '__getattr__',\n",
       " '__getattribute__',\n",
       " '__gt__',\n",
       " '__hash__',\n",
       " '__init__',\n",
       " '__init_subclass__',\n",
       " '__le__',\n",
       " '__lt__',\n",
       " '__module__',\n",
       " '__ne__',\n",
       " '__new__',\n",
       " '__reduce__',\n",
       " '__reduce_ex__',\n",
       " '__repr__',\n",
       " '__setattr__',\n",
       " '__sizeof__',\n",
       " '__str__',\n",
       " '__subclasshook__',\n",
       " '__weakref__']"
      ]
     },
     "execution_count": 87,
     "metadata": {},
     "output_type": "execute_result"
    }
   ],
   "source": [
    "dir(a)"
   ]
  },
  {
   "cell_type": "code",
   "execution_count": 99,
   "metadata": {},
   "outputs": [
    {
     "data": {
      "text/plain": [
       "'지훈'"
      ]
     },
     "execution_count": 99,
     "metadata": {},
     "output_type": "execute_result"
    }
   ],
   "source": [
    "a.f"
   ]
  },
  {
   "cell_type": "code",
   "execution_count": 100,
   "metadata": {},
   "outputs": [],
   "source": [
    "class X:\n",
    "    def __getattr__(self,attr):\n",
    "        if attr == 'a':\n",
    "            return '지훈지훈'\n",
    "        return '지훈'"
   ]
  },
  {
   "cell_type": "code",
   "execution_count": 101,
   "metadata": {},
   "outputs": [],
   "source": [
    "a = X()"
   ]
  },
  {
   "cell_type": "code",
   "execution_count": 102,
   "metadata": {},
   "outputs": [
    {
     "data": {
      "text/plain": [
       "'지훈지훈'"
      ]
     },
     "execution_count": 102,
     "metadata": {},
     "output_type": "execute_result"
    }
   ],
   "source": [
    "a.a"
   ]
  },
  {
   "cell_type": "code",
   "execution_count": 127,
   "metadata": {},
   "outputs": [],
   "source": [
    "# compopsition은 상속할 애를 만들지 않고 인스턴스로 집어넣는다"
   ]
  },
  {
   "cell_type": "code",
   "execution_count": 128,
   "metadata": {},
   "outputs": [],
   "source": [
    "class ComposedDoor:\n",
    "    def __init__(self, number, status):\n",
    "        self.door = Door(number, status)\n",
    "        \n",
    "    def __getattr__(self, attr):\n",
    "        return getattr(self.door, attr)"
   ]
  },
  {
   "cell_type": "code",
   "execution_count": 129,
   "metadata": {
    "scrolled": true
   },
   "outputs": [
    {
     "data": {
      "text/plain": [
       "['__class__',\n",
       " '__delattr__',\n",
       " '__dict__',\n",
       " '__dir__',\n",
       " '__doc__',\n",
       " '__eq__',\n",
       " '__format__',\n",
       " '__ge__',\n",
       " '__getattr__',\n",
       " '__getattribute__',\n",
       " '__gt__',\n",
       " '__hash__',\n",
       " '__init__',\n",
       " '__init_subclass__',\n",
       " '__le__',\n",
       " '__lt__',\n",
       " '__module__',\n",
       " '__ne__',\n",
       " '__new__',\n",
       " '__reduce__',\n",
       " '__reduce_ex__',\n",
       " '__repr__',\n",
       " '__setattr__',\n",
       " '__sizeof__',\n",
       " '__str__',\n",
       " '__subclasshook__',\n",
       " '__weakref__']"
      ]
     },
     "execution_count": 129,
     "metadata": {},
     "output_type": "execute_result"
    }
   ],
   "source": [
    "dir(ComposedDoor)"
   ]
  },
  {
   "cell_type": "markdown",
   "metadata": {},
   "source": [
    "As this last example shows, delegating every member access through `__getattr__()` is very simple. Pay attention to `getattr()` which is different from `__getattr__()`. The former is a built-in that is equivalent to the dotted syntax, i.e. `getattr(obj, 'someattr')` is the same as `obj.someattr`, but you have to use it since the name of the attribute is contained in a string.\n",
    "\n",
    "Composition provides a superior way to manage delegation since it can selectively delegate the access, even mask some attributes or methods, while inheritance cannot. In Python you also avoid the memory problems that might arise when you put many objects inside another; Python handles everything through its reference, i.e. through a pointer to the memory position of the thing, so the size of an attribute is constant and very limited.\n",
    "\n",
    "## Movie Trivia\n",
    "\n",
    "Section titles come from the following movies: _The Cannonball Run (1981)_, _Apocalypse Now (1979)_, _Enter the Dragon (1973)_.\n",
    "\n",
    "## Sources\n",
    "\n",
    "You will find a lot of documentation in [this Reddit post](http://www.reddit.com/r/Python/comments/226ahl/some_links_about_python_oop/). Most of the information contained in this series come from those sources.\n",
    "\n",
    "## Feedback\n",
    "\n",
    "Feel free to use [the blog Google+ page](https://plus.google.com/u/0/b/110554719587236016835/110554719587236016835/posts) to comment the post. The [GitHub issues](https://github.com/lgiordani/lgiordani.github.com/issues) page is the best place to submit corrections.\n"
   ]
  }
 ],
 "metadata": {
  "kernelspec": {
   "display_name": "Python 3",
   "language": "python",
   "name": "python3"
  },
  "language_info": {
   "codemirror_mode": {
    "name": "ipython",
    "version": 3
   },
   "file_extension": ".py",
   "mimetype": "text/x-python",
   "name": "python",
   "nbconvert_exporter": "python",
   "pygments_lexer": "ipython3",
   "version": "3.7.1"
  },
  "varInspector": {
   "cols": {
    "lenName": 16,
    "lenType": 16,
    "lenVar": 40
   },
   "kernels_config": {
    "python": {
     "delete_cmd_postfix": "",
     "delete_cmd_prefix": "del ",
     "library": "var_list.py",
     "varRefreshCmd": "print(var_dic_list())"
    },
    "r": {
     "delete_cmd_postfix": ") ",
     "delete_cmd_prefix": "rm(",
     "library": "var_list.r",
     "varRefreshCmd": "cat(var_dic_list()) "
    }
   },
   "types_to_exclude": [
    "module",
    "function",
    "builtin_function_or_method",
    "instance",
    "_Feature"
   ],
   "window_display": false
  }
 },
 "nbformat": 4,
 "nbformat_minor": 1
}
