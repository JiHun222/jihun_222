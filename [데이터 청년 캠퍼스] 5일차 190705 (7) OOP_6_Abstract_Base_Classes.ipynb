{
 "cells": [
  {
   "cell_type": "markdown",
   "metadata": {},
   "source": [
    "## The Inspection Club\n",
    "\n",
    "As you know, Python leverages polymorphism at its maximum by dealing only with generic references to objects. This makes OOP not an addition to the language but part of its structure from the ground up. Moreover, Python pushes the EAFP appoach, which tries to avoid direct inspection of objects as much as possible.\n",
    "\n",
    "It is however very interesting to read what Guido van Rossum says in [PEP 3119](http://legacy.python.org/dev/peps/pep-3119/): _Invocation means interacting with an object by invoking its methods. Usually this is combined with polymorphism, so that invoking a given method may run different code depending on the type of an object. Inspection means the ability for external code (outside of the object's methods) to examine the type or properties of that object, and make decisions on how to treat that object based on that information. [...] In classical OOP theory, invocation is the preferred usage pattern, and inspection is actively discouraged, being considered a relic of an earlier, procedural programming style. However, in practice this view is simply too dogmatic and inflexible, and leads to a kind of design rigidity that is very much at odds with the dynamic nature of a language like Python._\n",
    "\n",
    "The author of Python recognizes that forcing the use of a pure polymorphic approach leads sometimes to solutions that are too complex or even incorrect. In this section I want to show some of the problems that can arise from a pure polymorphic approach and introduce Abstract Base Classes, which aim to solve them. I strongly suggest to read [PEP 3119](http://legacy.python.org/dev/peps/pep-3119/) (as for any other PEP) since it contains a deeper and better explanation of the whole matter. Indeed I think that this PEP is so well written that any further explanation is hardly needed. I am however used to write explanations to check how much I understood about the topic, so I am going to try it this time too.\n",
    "\n",
    "#### E.A.F.P the Extra Test Trial\n",
    "\n",
    "The EAFP coding style requires you to trust the incoming objects to provide the attributes and methods you need, and to manage the possible exceptions, if you know how to do it. Sometimes, however, you need to test if the incoming object matches a complex behaviour. For example, you could be interested in testing if the object _acts_ like a list, but you quickly realize that the amount of methods a `list` provides is very big and this could lead to odd EAFP code like\n",
    "\n",
    "``` python\n",
    "try:\n",
    "    obj.append\n",
    "    obj.count\n",
    "    obj.extend\n",
    "    obj.index\n",
    "    obj.insert\n",
    "    [...]\n",
    "except AttributeError:\n",
    "    [...]\n",
    "```\n",
    "\n",
    "where the methods of the `list` type are accessed (not called) just to force the object to raise the `AttributeError` exception if they are not present. This code, however, is not only ugly but also wrong. If you recall the \"Enter the Composition\" section of the [third post](/blog/2014/08/20/python-3-oop-part-3-delegation-composition-and-inheritance) of this series, you know that in Python you can always customize the `__getattr__()` method, which is called whenever the requested attribute is not found in the object. So I could write a class that passes the test but actually does not act like a list\n",
    "\n",
    "``` python\n",
    "class FakeList:\n",
    "    def fakemethod(self):\n",
    "        pass\n",
    "    \n",
    "    def __getattr__(self, name):\n",
    "        if name in ['append', 'count', 'extend', 'index', 'insert', ...]:\n",
    "            return self.fakemethod\n",
    "```\n",
    "\n",
    "This is obviously just an example, and no one will ever write such a class, but this demonstrates that just accessing methods does not guarantee that a class _acts_ like the one we are expecting.\n",
    "\n",
    "There are many examples that could be done leveraging the highly dynamic nature of Python and its rich object model. I would summarize them by saying that sometimes you'd better to check the type of the incoming object.\n",
    "\n",
    "In Python you can obtain the type of an object using the `type()` built-in function, but to check it you'd better use `isinstance()`, which returns a boolean value. Let us see an example before moving on"
   ]
  },
  {
   "cell_type": "code",
   "execution_count": 13,
   "metadata": {},
   "outputs": [
    {
     "data": {
      "text/plain": [
       "True"
      ]
     },
     "execution_count": 13,
     "metadata": {},
     "output_type": "execute_result"
    }
   ],
   "source": [
    "isinstance([], list)"
   ]
  },
  {
   "cell_type": "code",
   "execution_count": 14,
   "metadata": {},
   "outputs": [
    {
     "data": {
      "text/plain": [
       "True"
      ]
     },
     "execution_count": 14,
     "metadata": {},
     "output_type": "execute_result"
    }
   ],
   "source": [
    "isinstance(1, int)"
   ]
  },
  {
   "cell_type": "code",
   "execution_count": 15,
   "metadata": {},
   "outputs": [
    {
     "data": {
      "text/plain": [
       "True"
      ]
     },
     "execution_count": 15,
     "metadata": {},
     "output_type": "execute_result"
    }
   ],
   "source": [
    "class Door:\n",
    "    pass\n",
    "\n",
    "d = Door()\n",
    "isinstance(d, Door)"
   ]
  },
  {
   "cell_type": "code",
   "execution_count": 16,
   "metadata": {},
   "outputs": [
    {
     "data": {
      "text/plain": [
       "True"
      ]
     },
     "execution_count": 16,
     "metadata": {},
     "output_type": "execute_result"
    }
   ],
   "source": [
    "class EnhancedDoor(Door):\n",
    "    pass\n",
    "\n",
    "ed = EnhancedDoor()\n",
    "isinstance(ed, EnhancedDoor)"
   ]
  },
  {
   "cell_type": "code",
   "execution_count": 17,
   "metadata": {},
   "outputs": [
    {
     "data": {
      "text/plain": [
       "True"
      ]
     },
     "execution_count": 17,
     "metadata": {},
     "output_type": "execute_result"
    }
   ],
   "source": [
    "isinstance(ed, Door)"
   ]
  },
  {
   "cell_type": "markdown",
   "metadata": {},
   "source": [
    "As you can see the function can also walk the class hierarchy, so the check is not so trivial like the one you would obtain by directly using `type()`.\n",
    "\n",
    "The `isinstance()` function, however, does not completely solve the problem. If we write a class that actually _acts_ like a `list` but does not inherit from it, `isinstance()` does not recognize the fact that the two may be considered the same thing. The following code returns `False` regardless the content of the `MyList` class"
   ]
  },
  {
   "cell_type": "code",
   "execution_count": 18,
   "metadata": {},
   "outputs": [
    {
     "data": {
      "text/plain": [
       "False"
      ]
     },
     "execution_count": 18,
     "metadata": {},
     "output_type": "execute_result"
    }
   ],
   "source": [
    "class MyList:\n",
    "    pass\n",
    "\n",
    "ml = MyList()\n",
    "isinstance(ml, list)"
   ]
  },
  {
   "cell_type": "markdown",
   "metadata": {},
   "source": [
    "since `isinstance()` does not check the content of the class or its behaviour, it just consider the class and its ancestors.\n",
    "\n",
    "The problem, thus, may be summed up with the following question: what is the best way to test that an object exposes a given interface? Here, the word _interface_ is used for its natural meaning, without any reference to other programming solutions, which however address the same problem.\n",
    "\n",
    "A good way to address the problem could be to write inside an attribute of the object the list of interfaces it promises to implement, and to agree that any time we want to test the behaviour of an object we simply have to check the content of this attribute. This is exactly the path followed by Python, and it is very important to understand that the whole system is just about a promised behaviour.\n",
    "\n",
    "The solution proposed through PEP 3119 is, in my opinion, very simple and elegant, and it perfectly fits the nature of Python, where things are usually agreed rather than being enforced. Not only, the solution follows the spirit of polymorphism, where information is provided by the object itself and not extracted by the calling code.\n",
    "\n",
    "In the next sections I am going to try and describe this solution in its main building blocks. The matter is complex so my explanation will lack some details: please refer to the forementioned PEP 3119 for a complete description.\n",
    "\n",
    "#### Who Framed the Metaclasses\n",
    "\n",
    "As already described, Python provides two built-ins to inspect objects and classes, which are `isinstance()` and `issubclass()` and it would be desirable that a solution to the inspection problem allows the programmer to go on with using those two functions.\n",
    "\n",
    "This means that we need to find a way to inject the \"behaviour promise\" into both classes and instances. This is the reason why metaclasses come in play. Recall what we said about them in the fifth issue of this series: metaclasses are the classes used to build classes, which means that they are the preferred way to change the structure of a class, and, in consequence, of its instances.\n",
    "\n",
    "Another way to do the same job would be to leverage the inheritance mechanism, injecting the behaviour through a dedicated parent class. This solution has many downsides, which I'm am not going to detail. It is enough to say that affecting the class hierarchy may lead to complex situations or subtle bugs. Metaclasses may provide here a different entry point for the introduction of a \"virtual base class\" (as PEP 3119 specifies, this is not the same concept as in C++).\n",
    "\n",
    "#### Overriding Places\n",
    "\n",
    "As said, `isinstance()` and `issubclass()` are built-in functions, not object methods, so we cannot simply override them providing a different implementation in a given class. So the first part of the solution is to change the behaviour of those two functions to first check if the class or the instance contain a special method, which is `__instancecheck__()` for `isinstance()` and `__subclasscheck__()` for `issubclass()`. So both built-ins try to run the respective special method, reverting to the standard algorithm if it is not present.\n",
    "\n",
    "A note about naming. Methods must accept the object they belong to as the first argument, so the two special methods shall have the form\n",
    "\n",
    "``` python\n",
    "def __instancecheck__(cls, inst):\n",
    "   [...]\n",
    "   \n",
    "def __subclasscheck__(cls, sub):\n",
    "   [...]\n",
    "```\n",
    "\n",
    "where `cls` is the class where they are injected, that is the one representing the promised behaviour. The two built-ins, however, have a reversed argument order, where the behaviour comes after the tested object: when you write `isinstance([], list)` you want to check if the `[]` instance has the `list` behaviour. This is the reason behind the name choice: just calling the methods `__isinstance__()` and `__issubclass__()` and passing arguments in a reversed order would have been confusing.\n",
    "\n",
    "#### This is ABC\n",
    "\n",
    "The proposed solution is thus called Abstract Base Classes, as it provides a way to attach to a concrete class a virtual class with the only purpose of signaling a promised behaviour to anyone inspecting it with `isinstance()` or `issubclass()`.\n",
    "\n",
    "To help programmers implement Abstract Base Classes, the standard library has been given an `abc` module, thet contains the `ABCMeta` class (and other facilities). This class is the one that implements `__instancecheck__()` and `__subclasscheck__()` and shall be used as a metaclass to augment a standard class. This latter will then be able to register other classes as implementation of its behaviour.\n",
    "\n",
    "Sounds complex? An example may clarify the whole matter. The one from the official documentation is rather simple:"
   ]
  },
  {
   "cell_type": "code",
   "execution_count": 1,
   "metadata": {},
   "outputs": [],
   "source": [
    "from sklearn.neighbors import KNeighborsClassifier"
   ]
  },
  {
   "cell_type": "code",
   "execution_count": 2,
   "metadata": {},
   "outputs": [
    {
     "data": {
      "text/plain": [
       "abc.ABCMeta"
      ]
     },
     "execution_count": 2,
     "metadata": {},
     "output_type": "execute_result"
    }
   ],
   "source": [
    "type(KNeighborsClassifier)"
   ]
  },
  {
   "cell_type": "code",
   "execution_count": 3,
   "metadata": {},
   "outputs": [],
   "source": [
    "import inspect"
   ]
  },
  {
   "cell_type": "code",
   "execution_count": 4,
   "metadata": {},
   "outputs": [
    {
     "name": "stdout",
     "output_type": "stream",
     "text": [
      "class KNeighborsClassifier(NeighborsBase, KNeighborsMixin,\n",
      "                           SupervisedIntegerMixin, ClassifierMixin):\n",
      "    \"\"\"Classifier implementing the k-nearest neighbors vote.\n",
      "\n",
      "    Read more in the :ref:`User Guide <classification>`.\n",
      "\n",
      "    Parameters\n",
      "    ----------\n",
      "    n_neighbors : int, optional (default = 5)\n",
      "        Number of neighbors to use by default for :meth:`kneighbors` queries.\n",
      "\n",
      "    weights : str or callable, optional (default = 'uniform')\n",
      "        weight function used in prediction.  Possible values:\n",
      "\n",
      "        - 'uniform' : uniform weights.  All points in each neighborhood\n",
      "          are weighted equally.\n",
      "        - 'distance' : weight points by the inverse of their distance.\n",
      "          in this case, closer neighbors of a query point will have a\n",
      "          greater influence than neighbors which are further away.\n",
      "        - [callable] : a user-defined function which accepts an\n",
      "          array of distances, and returns an array of the same shape\n",
      "          containing the weights.\n",
      "\n",
      "    algorithm : {'auto', 'ball_tree', 'kd_tree', 'brute'}, optional\n",
      "        Algorithm used to compute the nearest neighbors:\n",
      "\n",
      "        - 'ball_tree' will use :class:`BallTree`\n",
      "        - 'kd_tree' will use :class:`KDTree`\n",
      "        - 'brute' will use a brute-force search.\n",
      "        - 'auto' will attempt to decide the most appropriate algorithm\n",
      "          based on the values passed to :meth:`fit` method.\n",
      "\n",
      "        Note: fitting on sparse input will override the setting of\n",
      "        this parameter, using brute force.\n",
      "\n",
      "    leaf_size : int, optional (default = 30)\n",
      "        Leaf size passed to BallTree or KDTree.  This can affect the\n",
      "        speed of the construction and query, as well as the memory\n",
      "        required to store the tree.  The optimal value depends on the\n",
      "        nature of the problem.\n",
      "\n",
      "    p : integer, optional (default = 2)\n",
      "        Power parameter for the Minkowski metric. When p = 1, this is\n",
      "        equivalent to using manhattan_distance (l1), and euclidean_distance\n",
      "        (l2) for p = 2. For arbitrary p, minkowski_distance (l_p) is used.\n",
      "\n",
      "    metric : string or callable, default 'minkowski'\n",
      "        the distance metric to use for the tree.  The default metric is\n",
      "        minkowski, and with p=2 is equivalent to the standard Euclidean\n",
      "        metric. See the documentation of the DistanceMetric class for a\n",
      "        list of available metrics.\n",
      "\n",
      "    metric_params : dict, optional (default = None)\n",
      "        Additional keyword arguments for the metric function.\n",
      "\n",
      "    n_jobs : int or None, optional (default=None)\n",
      "        The number of parallel jobs to run for neighbors search.\n",
      "        ``None`` means 1 unless in a :obj:`joblib.parallel_backend` context.\n",
      "        ``-1`` means using all processors. See :term:`Glossary <n_jobs>`\n",
      "        for more details.\n",
      "        Doesn't affect :meth:`fit` method.\n",
      "\n",
      "    Examples\n",
      "    --------\n",
      "    >>> X = [[0], [1], [2], [3]]\n",
      "    >>> y = [0, 0, 1, 1]\n",
      "    >>> from sklearn.neighbors import KNeighborsClassifier\n",
      "    >>> neigh = KNeighborsClassifier(n_neighbors=3)\n",
      "    >>> neigh.fit(X, y) # doctest: +ELLIPSIS\n",
      "    KNeighborsClassifier(...)\n",
      "    >>> print(neigh.predict([[1.1]]))\n",
      "    [0]\n",
      "    >>> print(neigh.predict_proba([[0.9]]))\n",
      "    [[0.66666667 0.33333333]]\n",
      "\n",
      "    See also\n",
      "    --------\n",
      "    RadiusNeighborsClassifier\n",
      "    KNeighborsRegressor\n",
      "    RadiusNeighborsRegressor\n",
      "    NearestNeighbors\n",
      "\n",
      "    Notes\n",
      "    -----\n",
      "    See :ref:`Nearest Neighbors <neighbors>` in the online documentation\n",
      "    for a discussion of the choice of ``algorithm`` and ``leaf_size``.\n",
      "\n",
      "    .. warning::\n",
      "\n",
      "       Regarding the Nearest Neighbors algorithms, if it is found that two\n",
      "       neighbors, neighbor `k+1` and `k`, have identical distances\n",
      "       but different labels, the results will depend on the ordering of the\n",
      "       training data.\n",
      "\n",
      "    https://en.wikipedia.org/wiki/K-nearest_neighbor_algorithm\n",
      "    \"\"\"\n",
      "\n",
      "    def __init__(self, n_neighbors=5,\n",
      "                 weights='uniform', algorithm='auto', leaf_size=30,\n",
      "                 p=2, metric='minkowski', metric_params=None, n_jobs=None,\n",
      "                 **kwargs):\n",
      "\n",
      "        super(KNeighborsClassifier, self).__init__(\n",
      "            n_neighbors=n_neighbors,\n",
      "            algorithm=algorithm,\n",
      "            leaf_size=leaf_size, metric=metric, p=p,\n",
      "            metric_params=metric_params,\n",
      "            n_jobs=n_jobs, **kwargs)\n",
      "        self.weights = _check_weights(weights)\n",
      "\n",
      "    def predict(self, X):\n",
      "        \"\"\"Predict the class labels for the provided data\n",
      "\n",
      "        Parameters\n",
      "        ----------\n",
      "        X : array-like, shape (n_query, n_features), \\\n",
      "                or (n_query, n_indexed) if metric == 'precomputed'\n",
      "            Test samples.\n",
      "\n",
      "        Returns\n",
      "        -------\n",
      "        y : array of shape [n_samples] or [n_samples, n_outputs]\n",
      "            Class labels for each data sample.\n",
      "        \"\"\"\n",
      "        X = check_array(X, accept_sparse='csr')\n",
      "\n",
      "        neigh_dist, neigh_ind = self.kneighbors(X)\n",
      "        classes_ = self.classes_\n",
      "        _y = self._y\n",
      "        if not self.outputs_2d_:\n",
      "            _y = self._y.reshape((-1, 1))\n",
      "            classes_ = [self.classes_]\n",
      "\n",
      "        n_outputs = len(classes_)\n",
      "        n_samples = X.shape[0]\n",
      "        weights = _get_weights(neigh_dist, self.weights)\n",
      "\n",
      "        y_pred = np.empty((n_samples, n_outputs), dtype=classes_[0].dtype)\n",
      "        for k, classes_k in enumerate(classes_):\n",
      "            if weights is None:\n",
      "                mode, _ = stats.mode(_y[neigh_ind, k], axis=1)\n",
      "            else:\n",
      "                mode, _ = weighted_mode(_y[neigh_ind, k], weights, axis=1)\n",
      "\n",
      "            mode = np.asarray(mode.ravel(), dtype=np.intp)\n",
      "            y_pred[:, k] = classes_k.take(mode)\n",
      "\n",
      "        if not self.outputs_2d_:\n",
      "            y_pred = y_pred.ravel()\n",
      "\n",
      "        return y_pred\n",
      "\n",
      "    def predict_proba(self, X):\n",
      "        \"\"\"Return probability estimates for the test data X.\n",
      "\n",
      "        Parameters\n",
      "        ----------\n",
      "        X : array-like, shape (n_query, n_features), \\\n",
      "                or (n_query, n_indexed) if metric == 'precomputed'\n",
      "            Test samples.\n",
      "\n",
      "        Returns\n",
      "        -------\n",
      "        p : array of shape = [n_samples, n_classes], or a list of n_outputs\n",
      "            of such arrays if n_outputs > 1.\n",
      "            The class probabilities of the input samples. Classes are ordered\n",
      "            by lexicographic order.\n",
      "        \"\"\"\n",
      "        X = check_array(X, accept_sparse='csr')\n",
      "\n",
      "        neigh_dist, neigh_ind = self.kneighbors(X)\n",
      "\n",
      "        classes_ = self.classes_\n",
      "        _y = self._y\n",
      "        if not self.outputs_2d_:\n",
      "            _y = self._y.reshape((-1, 1))\n",
      "            classes_ = [self.classes_]\n",
      "\n",
      "        n_samples = X.shape[0]\n",
      "\n",
      "        weights = _get_weights(neigh_dist, self.weights)\n",
      "        if weights is None:\n",
      "            weights = np.ones_like(neigh_ind)\n",
      "\n",
      "        all_rows = np.arange(X.shape[0])\n",
      "        probabilities = []\n",
      "        for k, classes_k in enumerate(classes_):\n",
      "            pred_labels = _y[:, k][neigh_ind]\n",
      "            proba_k = np.zeros((n_samples, classes_k.size))\n",
      "\n",
      "            # a simple ':' index doesn't work right\n",
      "            for i, idx in enumerate(pred_labels.T):  # loop is O(n_neighbors)\n",
      "                proba_k[all_rows, idx] += weights[:, i]\n",
      "\n",
      "            # normalize 'votes' into real [0,1] probabilities\n",
      "            normalizer = proba_k.sum(axis=1)[:, np.newaxis]\n",
      "            normalizer[normalizer == 0.0] = 1.0\n",
      "            proba_k /= normalizer\n",
      "\n",
      "            probabilities.append(proba_k)\n",
      "\n",
      "        if not self.outputs_2d_:\n",
      "            probabilities = probabilities[0]\n",
      "\n",
      "        return probabilities\n",
      "\n"
     ]
    }
   ],
   "source": [
    "print(inspect.getsource(KNeighborsClassifier))"
   ]
  },
  {
   "cell_type": "code",
   "execution_count": 5,
   "metadata": {},
   "outputs": [],
   "source": [
    "from sklearn.datasets import load_boston"
   ]
  },
  {
   "cell_type": "code",
   "execution_count": 6,
   "metadata": {},
   "outputs": [
    {
     "data": {
      "text/plain": [
       "{'data': array([[6.3200e-03, 1.8000e+01, 2.3100e+00, ..., 1.5300e+01, 3.9690e+02,\n",
       "         4.9800e+00],\n",
       "        [2.7310e-02, 0.0000e+00, 7.0700e+00, ..., 1.7800e+01, 3.9690e+02,\n",
       "         9.1400e+00],\n",
       "        [2.7290e-02, 0.0000e+00, 7.0700e+00, ..., 1.7800e+01, 3.9283e+02,\n",
       "         4.0300e+00],\n",
       "        ...,\n",
       "        [6.0760e-02, 0.0000e+00, 1.1930e+01, ..., 2.1000e+01, 3.9690e+02,\n",
       "         5.6400e+00],\n",
       "        [1.0959e-01, 0.0000e+00, 1.1930e+01, ..., 2.1000e+01, 3.9345e+02,\n",
       "         6.4800e+00],\n",
       "        [4.7410e-02, 0.0000e+00, 1.1930e+01, ..., 2.1000e+01, 3.9690e+02,\n",
       "         7.8800e+00]]),\n",
       " 'target': array([24. , 21.6, 34.7, 33.4, 36.2, 28.7, 22.9, 27.1, 16.5, 18.9, 15. ,\n",
       "        18.9, 21.7, 20.4, 18.2, 19.9, 23.1, 17.5, 20.2, 18.2, 13.6, 19.6,\n",
       "        15.2, 14.5, 15.6, 13.9, 16.6, 14.8, 18.4, 21. , 12.7, 14.5, 13.2,\n",
       "        13.1, 13.5, 18.9, 20. , 21. , 24.7, 30.8, 34.9, 26.6, 25.3, 24.7,\n",
       "        21.2, 19.3, 20. , 16.6, 14.4, 19.4, 19.7, 20.5, 25. , 23.4, 18.9,\n",
       "        35.4, 24.7, 31.6, 23.3, 19.6, 18.7, 16. , 22.2, 25. , 33. , 23.5,\n",
       "        19.4, 22. , 17.4, 20.9, 24.2, 21.7, 22.8, 23.4, 24.1, 21.4, 20. ,\n",
       "        20.8, 21.2, 20.3, 28. , 23.9, 24.8, 22.9, 23.9, 26.6, 22.5, 22.2,\n",
       "        23.6, 28.7, 22.6, 22. , 22.9, 25. , 20.6, 28.4, 21.4, 38.7, 43.8,\n",
       "        33.2, 27.5, 26.5, 18.6, 19.3, 20.1, 19.5, 19.5, 20.4, 19.8, 19.4,\n",
       "        21.7, 22.8, 18.8, 18.7, 18.5, 18.3, 21.2, 19.2, 20.4, 19.3, 22. ,\n",
       "        20.3, 20.5, 17.3, 18.8, 21.4, 15.7, 16.2, 18. , 14.3, 19.2, 19.6,\n",
       "        23. , 18.4, 15.6, 18.1, 17.4, 17.1, 13.3, 17.8, 14. , 14.4, 13.4,\n",
       "        15.6, 11.8, 13.8, 15.6, 14.6, 17.8, 15.4, 21.5, 19.6, 15.3, 19.4,\n",
       "        17. , 15.6, 13.1, 41.3, 24.3, 23.3, 27. , 50. , 50. , 50. , 22.7,\n",
       "        25. , 50. , 23.8, 23.8, 22.3, 17.4, 19.1, 23.1, 23.6, 22.6, 29.4,\n",
       "        23.2, 24.6, 29.9, 37.2, 39.8, 36.2, 37.9, 32.5, 26.4, 29.6, 50. ,\n",
       "        32. , 29.8, 34.9, 37. , 30.5, 36.4, 31.1, 29.1, 50. , 33.3, 30.3,\n",
       "        34.6, 34.9, 32.9, 24.1, 42.3, 48.5, 50. , 22.6, 24.4, 22.5, 24.4,\n",
       "        20. , 21.7, 19.3, 22.4, 28.1, 23.7, 25. , 23.3, 28.7, 21.5, 23. ,\n",
       "        26.7, 21.7, 27.5, 30.1, 44.8, 50. , 37.6, 31.6, 46.7, 31.5, 24.3,\n",
       "        31.7, 41.7, 48.3, 29. , 24. , 25.1, 31.5, 23.7, 23.3, 22. , 20.1,\n",
       "        22.2, 23.7, 17.6, 18.5, 24.3, 20.5, 24.5, 26.2, 24.4, 24.8, 29.6,\n",
       "        42.8, 21.9, 20.9, 44. , 50. , 36. , 30.1, 33.8, 43.1, 48.8, 31. ,\n",
       "        36.5, 22.8, 30.7, 50. , 43.5, 20.7, 21.1, 25.2, 24.4, 35.2, 32.4,\n",
       "        32. , 33.2, 33.1, 29.1, 35.1, 45.4, 35.4, 46. , 50. , 32.2, 22. ,\n",
       "        20.1, 23.2, 22.3, 24.8, 28.5, 37.3, 27.9, 23.9, 21.7, 28.6, 27.1,\n",
       "        20.3, 22.5, 29. , 24.8, 22. , 26.4, 33.1, 36.1, 28.4, 33.4, 28.2,\n",
       "        22.8, 20.3, 16.1, 22.1, 19.4, 21.6, 23.8, 16.2, 17.8, 19.8, 23.1,\n",
       "        21. , 23.8, 23.1, 20.4, 18.5, 25. , 24.6, 23. , 22.2, 19.3, 22.6,\n",
       "        19.8, 17.1, 19.4, 22.2, 20.7, 21.1, 19.5, 18.5, 20.6, 19. , 18.7,\n",
       "        32.7, 16.5, 23.9, 31.2, 17.5, 17.2, 23.1, 24.5, 26.6, 22.9, 24.1,\n",
       "        18.6, 30.1, 18.2, 20.6, 17.8, 21.7, 22.7, 22.6, 25. , 19.9, 20.8,\n",
       "        16.8, 21.9, 27.5, 21.9, 23.1, 50. , 50. , 50. , 50. , 50. , 13.8,\n",
       "        13.8, 15. , 13.9, 13.3, 13.1, 10.2, 10.4, 10.9, 11.3, 12.3,  8.8,\n",
       "         7.2, 10.5,  7.4, 10.2, 11.5, 15.1, 23.2,  9.7, 13.8, 12.7, 13.1,\n",
       "        12.5,  8.5,  5. ,  6.3,  5.6,  7.2, 12.1,  8.3,  8.5,  5. , 11.9,\n",
       "        27.9, 17.2, 27.5, 15. , 17.2, 17.9, 16.3,  7. ,  7.2,  7.5, 10.4,\n",
       "         8.8,  8.4, 16.7, 14.2, 20.8, 13.4, 11.7,  8.3, 10.2, 10.9, 11. ,\n",
       "         9.5, 14.5, 14.1, 16.1, 14.3, 11.7, 13.4,  9.6,  8.7,  8.4, 12.8,\n",
       "        10.5, 17.1, 18.4, 15.4, 10.8, 11.8, 14.9, 12.6, 14.1, 13. , 13.4,\n",
       "        15.2, 16.1, 17.8, 14.9, 14.1, 12.7, 13.5, 14.9, 20. , 16.4, 17.7,\n",
       "        19.5, 20.2, 21.4, 19.9, 19. , 19.1, 19.1, 20.1, 19.9, 19.6, 23.2,\n",
       "        29.8, 13.8, 13.3, 16.7, 12. , 14.6, 21.4, 23. , 23.7, 25. , 21.8,\n",
       "        20.6, 21.2, 19.1, 20.6, 15.2,  7. ,  8.1, 13.6, 20.1, 21.8, 24.5,\n",
       "        23.1, 19.7, 18.3, 21.2, 17.5, 16.8, 22.4, 20.6, 23.9, 22. , 11.9]),\n",
       " 'feature_names': array(['CRIM', 'ZN', 'INDUS', 'CHAS', 'NOX', 'RM', 'AGE', 'DIS', 'RAD',\n",
       "        'TAX', 'PTRATIO', 'B', 'LSTAT'], dtype='<U7'),\n",
       " 'DESCR': \".. _boston_dataset:\\n\\nBoston house prices dataset\\n---------------------------\\n\\n**Data Set Characteristics:**  \\n\\n    :Number of Instances: 506 \\n\\n    :Number of Attributes: 13 numeric/categorical predictive. Median Value (attribute 14) is usually the target.\\n\\n    :Attribute Information (in order):\\n        - CRIM     per capita crime rate by town\\n        - ZN       proportion of residential land zoned for lots over 25,000 sq.ft.\\n        - INDUS    proportion of non-retail business acres per town\\n        - CHAS     Charles River dummy variable (= 1 if tract bounds river; 0 otherwise)\\n        - NOX      nitric oxides concentration (parts per 10 million)\\n        - RM       average number of rooms per dwelling\\n        - AGE      proportion of owner-occupied units built prior to 1940\\n        - DIS      weighted distances to five Boston employment centres\\n        - RAD      index of accessibility to radial highways\\n        - TAX      full-value property-tax rate per $10,000\\n        - PTRATIO  pupil-teacher ratio by town\\n        - B        1000(Bk - 0.63)^2 where Bk is the proportion of blacks by town\\n        - LSTAT    % lower status of the population\\n        - MEDV     Median value of owner-occupied homes in $1000's\\n\\n    :Missing Attribute Values: None\\n\\n    :Creator: Harrison, D. and Rubinfeld, D.L.\\n\\nThis is a copy of UCI ML housing dataset.\\nhttps://archive.ics.uci.edu/ml/machine-learning-databases/housing/\\n\\n\\nThis dataset was taken from the StatLib library which is maintained at Carnegie Mellon University.\\n\\nThe Boston house-price data of Harrison, D. and Rubinfeld, D.L. 'Hedonic\\nprices and the demand for clean air', J. Environ. Economics & Management,\\nvol.5, 81-102, 1978.   Used in Belsley, Kuh & Welsch, 'Regression diagnostics\\n...', Wiley, 1980.   N.B. Various transformations are used in the table on\\npages 244-261 of the latter.\\n\\nThe Boston house-price data has been used in many machine learning papers that address regression\\nproblems.   \\n     \\n.. topic:: References\\n\\n   - Belsley, Kuh & Welsch, 'Regression diagnostics: Identifying Influential Data and Sources of Collinearity', Wiley, 1980. 244-261.\\n   - Quinlan,R. (1993). Combining Instance-Based and Model-Based Learning. In Proceedings on the Tenth International Conference of Machine Learning, 236-243, University of Massachusetts, Amherst. Morgan Kaufmann.\\n\",\n",
       " 'filename': 'C:\\\\Users\\\\SAMSUNG\\\\Anaconda3\\\\lib\\\\site-packages\\\\sklearn\\\\datasets\\\\data\\\\boston_house_prices.csv'}"
      ]
     },
     "execution_count": 6,
     "metadata": {},
     "output_type": "execute_result"
    }
   ],
   "source": [
    "load_boston()"
   ]
  },
  {
   "cell_type": "code",
   "execution_count": 7,
   "metadata": {},
   "outputs": [],
   "source": [
    "import pandas as pd"
   ]
  },
  {
   "cell_type": "code",
   "execution_count": null,
   "metadata": {},
   "outputs": [],
   "source": [
    "pd."
   ]
  },
  {
   "cell_type": "code",
   "execution_count": null,
   "metadata": {},
   "outputs": [],
   "source": []
  },
  {
   "cell_type": "code",
   "execution_count": 1,
   "metadata": {},
   "outputs": [],
   "source": [
    "from abc import ABCMeta\n",
    "# abc : abstract class : 추상 클래스\n",
    "# 추상할 때는 구현 안해도 되지만 실제 할 때는 무조건 구현되도록\n",
    "# 이 때 쓰는 것이 metaclass\n",
    "\n",
    "class MyABC(metaclass=ABCMeta):\n",
    "    pass\n",
    "\n",
    "MyABC.register(tuple)\n",
    "\n",
    "assert issubclass(tuple, MyABC)\n",
    "assert isinstance((), MyABC)"
   ]
  },
  {
   "cell_type": "markdown",
   "metadata": {},
   "source": [
    "Here, the `MyABC` class is provided the `ABCMeta` metaclass. This puts the two `__isinstancecheck__()` and `__subclasscheck__()` methods inside `MyABC` so that, when issuing `isinstance()`, what Python actually ececutes is"
   ]
  },
  {
   "cell_type": "code",
   "execution_count": 8,
   "metadata": {},
   "outputs": [
    {
     "data": {
      "text/plain": [
       "Ellipsis"
      ]
     },
     "execution_count": 8,
     "metadata": {},
     "output_type": "execute_result"
    }
   ],
   "source": [
    "..."
   ]
  },
  {
   "cell_type": "code",
   "execution_count": 20,
   "metadata": {},
   "outputs": [
    {
     "data": {
      "text/plain": [
       "False"
      ]
     },
     "execution_count": 20,
     "metadata": {},
     "output_type": "execute_result"
    }
   ],
   "source": [
    "d = {'a': 1}\n",
    "isinstance(d, MyABC)"
   ]
  },
  {
   "cell_type": "code",
   "execution_count": 21,
   "metadata": {},
   "outputs": [
    {
     "data": {
      "text/plain": [
       "False"
      ]
     },
     "execution_count": 21,
     "metadata": {},
     "output_type": "execute_result"
    }
   ],
   "source": [
    "MyABC.__class__.__instancecheck__(MyABC, d)"
   ]
  },
  {
   "cell_type": "code",
   "execution_count": 22,
   "metadata": {},
   "outputs": [
    {
     "data": {
      "text/plain": [
       "True"
      ]
     },
     "execution_count": 22,
     "metadata": {},
     "output_type": "execute_result"
    }
   ],
   "source": [
    "isinstance((), MyABC)"
   ]
  },
  {
   "cell_type": "code",
   "execution_count": 23,
   "metadata": {},
   "outputs": [
    {
     "data": {
      "text/plain": [
       "True"
      ]
     },
     "execution_count": 23,
     "metadata": {},
     "output_type": "execute_result"
    }
   ],
   "source": [
    "MyABC.__class__.__instancecheck__(MyABC, ())"
   ]
  },
  {
   "cell_type": "markdown",
   "metadata": {},
   "source": [
    "After the definition of `MyABC` we need a way to signal that a given class is an instance of the Abstract Base Class and this happens through the `register()` method, provided by the `ABCMeta` metaclass. Calling `MyABC.register(tuple)` we record inside `MyABC` the fact that the `tuple` class shall be identified as a subclass of `MyABC` itself. This is analogous to saying that `tuple` inherits from `MyABC` but not quite the same. As already said registering a class in an Abstract Base Class with `register()` does not affect the class hierarchy. Indeed, the whole `tuple` class is unchanged.\n",
    "\n",
    "The current implementation of ABCs stores the registered types inside the `_abc_registry` attribute. Actually it stores there weak references to the registered types (this part is outside the scope of this article, so I'm not detailing it)"
   ]
  },
  {
   "cell_type": "code",
   "execution_count": 24,
   "metadata": {},
   "outputs": [
    {
     "data": {
      "text/plain": [
       "{<weakref at 0xb6325f2c; to 'type' at 0x83dcca0 (tuple)>}"
      ]
     },
     "execution_count": 24,
     "metadata": {},
     "output_type": "execute_result"
    }
   ],
   "source": [
    "MyABC._abc_registry.data"
   ]
  },
  {
   "cell_type": "markdown",
   "metadata": {},
   "source": [
    "## Movie Trivia\n",
    "\n",
    "Section titles come from the following movies: _The Breakfast Club (1985)_, _E.T. the Extra-Terrestrial (1982)_, _Who Framed Roger Rabbit (1988)_, _Trading Places (1983)_, _This is Spinal Tap (1984)_.\n",
    "\n",
    "## Sources\n",
    "\n",
    "You will find a lot of documentation in [this Reddit post](http://www.reddit.com/r/Python/comments/226ahl/some_links_about_python_oop/). Most of the information contained in this series come from those sources.\n",
    "\n",
    "## Feedback\n",
    "\n",
    "Feel free to use [the blog Google+ page](https://plus.google.com/u/0/b/110554719587236016835/110554719587236016835/posts) to comment the post. The [GitHub issues](https://github.com/lgiordani/lgiordani.github.com/issues) page is the best place to submit corrections."
   ]
  }
 ],
 "metadata": {
  "kernelspec": {
   "display_name": "Python 3",
   "language": "python",
   "name": "python3"
  },
  "language_info": {
   "codemirror_mode": {
    "name": "ipython",
    "version": 3
   },
   "file_extension": ".py",
   "mimetype": "text/x-python",
   "name": "python",
   "nbconvert_exporter": "python",
   "pygments_lexer": "ipython3",
   "version": "3.7.1"
  },
  "varInspector": {
   "cols": {
    "lenName": 16,
    "lenType": 16,
    "lenVar": 40
   },
   "kernels_config": {
    "python": {
     "delete_cmd_postfix": "",
     "delete_cmd_prefix": "del ",
     "library": "var_list.py",
     "varRefreshCmd": "print(var_dic_list())"
    },
    "r": {
     "delete_cmd_postfix": ") ",
     "delete_cmd_prefix": "rm(",
     "library": "var_list.r",
     "varRefreshCmd": "cat(var_dic_list()) "
    }
   },
   "types_to_exclude": [
    "module",
    "function",
    "builtin_function_or_method",
    "instance",
    "_Feature"
   ],
   "window_display": false
  }
 },
 "nbformat": 4,
 "nbformat_minor": 1
}
