{
 "cells": [
  {
   "cell_type": "code",
   "execution_count": 1,
   "metadata": {},
   "outputs": [
    {
     "name": "stdout",
     "output_type": "stream",
     "text": [
      "[+] 전체 디렉터리 자막 추출 성공\n"
     ]
    }
   ],
   "source": [
    "import glob\n",
    "import os\n",
    "import re\n",
    "\n",
    "\n",
    "def get_subtitle(file_name):\n",
    "    print('[+] 작업중인 파일명 :', file_name)\n",
    "    sub_title_content = []\n",
    "\n",
    "    # 파일을 열기\n",
    "    # file = open(file_name)\n",
    "    file = open(file_name, 'rt', encoding='UTF8')\n",
    "    # 검사할 정규식 정의\n",
    "    regx = re.compile(r'\\d*\\n')\n",
    "    time = re.compile(r'(\\d{2}:\\d{2}:\\d{2})')\n",
    "    temp = re.compile(r\"'\\n'|' '\")\n",
    "    # 열린 파일의 라인별로 텍스트 얻기\n",
    "    for line in file:\n",
    "        # print('[+] 작업중인 라인1 :',line)\n",
    "        if not (regx.match(line) or time.search(line) or temp.match(line)):\n",
    "            sub_title_content += line\n",
    "\n",
    "    # print(sub_title_content)\n",
    "    return sub_title_content\n",
    "\n",
    "\n",
    "def make_file_and_save(content, file_name, ext='txt'):\n",
    "    file = open(file_name + '.' + ext, 'a', encoding='UTF-8')\n",
    "\n",
    "    for line in content:\n",
    "        file.write('%s' % line)\n",
    "    file.close()\n",
    "\n",
    "\n",
    "def clear_dir(path):\n",
    "    print('[+] 현재 경로       : ' + path)\n",
    "    file_list = glob.glob(path+'/*')\n",
    "    for item in file_list:\n",
    "        if item.endswith('.txt'):\n",
    "            os.remove(item)\n",
    "\n",
    "\n",
    "def main():\n",
    "\n",
    "    for(path, dir, files) in os.walk('./Intro to Data Analysis Subtitles'):\n",
    "        # 현재 디렉터리에 있는 파일에서 txt 파일을 전부 삭제하는 함수\n",
    "        clear_dir(path)\n",
    "        # 디렉터리에 있는 파일중 확장자가 srt로 끝나는 파일의 리스트 저장\n",
    "        subtitle_list = glob.glob(path+'/*.srt')\n",
    "        for file_name in subtitle_list:\n",
    "            subtitle_content = get_subtitle(file_name)\n",
    "            make_file_and_save(subtitle_content, file_name, 'txt')\n",
    "\n",
    "    print('[+] 전체 디렉터리 자막 추출 성공')\n",
    "\n",
    "\n",
    "if __name__ == '__main__':\n",
    "    main()"
   ]
  },
  {
   "cell_type": "code",
   "execution_count": null,
   "metadata": {},
   "outputs": [],
   "source": []
  }
 ],
 "metadata": {
  "kernelspec": {
   "display_name": "Python 3",
   "language": "python",
   "name": "python3"
  },
  "language_info": {
   "codemirror_mode": {
    "name": "ipython",
    "version": 3
   },
   "file_extension": ".py",
   "mimetype": "text/x-python",
   "name": "python",
   "nbconvert_exporter": "python",
   "pygments_lexer": "ipython3",
   "version": "3.7.3"
  }
 },
 "nbformat": 4,
 "nbformat_minor": 2
}
