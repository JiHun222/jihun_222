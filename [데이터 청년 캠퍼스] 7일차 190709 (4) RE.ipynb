{
 "cells": [
  {
   "cell_type": "markdown",
   "metadata": {},
   "source": [
    "# Regular Expression\n",
    "### 자연어 처리에서 필수적이다\n"
   ]
  },
  {
   "cell_type": "markdown",
   "metadata": {},
   "source": [
    "- Why use RE?\n",
    "    - processes large amounts of text over and over again/ Extremely fast\n",
    "    - Usually this pattern is then used by string searching algorithms for \"find\" or \"find and replace\" operations on strings, or for input validation"
   ]
  },
  {
   "cell_type": "markdown",
   "metadata": {},
   "source": [
    "- 익숙해지려면 오래 걸린다"
   ]
  },
  {
   "cell_type": "markdown",
   "metadata": {},
   "source": [
    "## 정규표현식(regex)\n",
    "- 애널리틱스의 맥락에서 정규 표현식은 애널리틱스 데이터의 패턴과 광범위하게 또는 세부적으로 일치하는 구체적인 문자 배열입니다.\n",
    "\n",
    "**Meta characters**\n",
    "\n",
    "- .(dot)\n",
    "    - a.b\n",
    "    - a+모든문자+b\n",
    "    - aab,a0b \n",
    "    \n",
    "- *(asterisk)\n",
    "    - ab*c\n",
    "    - a+b(0번이상반복)+c\n",
    "    - ac, abc, abbbbbbbc\n",
    "    \n",
    "- +(plus)\n",
    "    - ab+c\n",
    "    - a+b(1번 이상 반복)+c\n",
    "    - abc, abbbbbc\n",
    "    \n",
    "- {n| min,| min, max}(curly braces)\n",
    "    - {0,}=*, {1,}=*\n",
    "    - ab{1}c, ab{2,6}c\n",
    "    - a+b(1번 반복, 2번-6번)+c\n",
    "    - abc, abbc, abbbbbc\n",
    "    - 최댓값은 생략이 가능하고 최솟값은 생략이 안된다\n",
    "    \n",
    "- ?(question)\n",
    "    - ab?c,, b{0,1}\n",
    "    - a+b(1개 있거나 없거나)+c\n",
    "    - ac, abc\n",
    "    \n",
    "- [](square braket)\n",
    "    - [abc]\n",
    "    - a, b or c\n",
    "    \n",
    "- -\n",
    "    - [a-z]\n",
    "    - a부터 z까지\n",
    "\n",
    "- ^\n",
    "    - [^a-z]\n",
    "    - a부터 z까지를 제외\n",
    "    \n",
    "- Anchors(^, $ , \\b, \\B)\n",
    "\n",
    "- Grouping( ()(parenthesis))"
   ]
  },
  {
   "cell_type": "markdown",
   "metadata": {},
   "source": [
    "1. alternative\n",
    "    - cat|mat -> 'cat' or ' mat' \n",
    "    \n",
    "2. grouping\n",
    "    - gr(e|a)y -> 'grey' or 'gray' \n",
    "    - py(pi|tho(n|nic) → ‘pypi’ or ‘python’ or 'pythonic’중에 하나\n",
    "   \n",
    "3. quantification\n",
    "    - colou?r → ’color’ or ‘colour’\n",
    "    - 81*5 → ‘85’ or ‘815’ or ‘8111115’\n",
    "    - 81+5 → ‘815’ or ‘8111115’\n",
    "    - go{2,3}gle → ‘google’ or ‘gooogle’\n",
    "    - go{2,} → ‘goo’ or ‘gooooooooooooooo’\n"
   ]
  },
  {
   "cell_type": "code",
   "execution_count": 11,
   "metadata": {},
   "outputs": [],
   "source": [
    "import re"
   ]
  },
  {
   "cell_type": "code",
   "execution_count": 13,
   "metadata": {},
   "outputs": [
    {
     "name": "stdout",
     "output_type": "stream",
     "text": [
      "Collecting jupyterthemes\n",
      "  Downloading https://files.pythonhosted.org/packages/8a/08/9dee6dfd7f2aad6c30282d55c8f495b4dc1e4747b4e2bdbeb80572ddf312/jupyterthemes-0.20.0-py2.py3-none-any.whl (7.0MB)\n",
      "Requirement already satisfied: jupyter-core in c:\\users\\samsung\\anaconda3\\lib\\site-packages (from jupyterthemes) (4.4.0)\n",
      "Requirement already satisfied: ipython>=5.4.1 in c:\\users\\samsung\\anaconda3\\lib\\site-packages (from jupyterthemes) (7.2.0)\n",
      "Collecting lesscpy>=0.11.2 (from jupyterthemes)\n",
      "  Downloading https://files.pythonhosted.org/packages/10/d0/fdd9874972e07ae8727a3d26b433891d8605b96999ea99bbf506e756a7b1/lesscpy-0.13.0-py2.py3-none-any.whl (48kB)\n",
      "Requirement already satisfied: notebook>=5.6.0 in c:\\users\\samsung\\anaconda3\\lib\\site-packages (from jupyterthemes) (5.7.4)\n",
      "Requirement already satisfied: matplotlib>=1.4.3 in c:\\users\\samsung\\anaconda3\\lib\\site-packages (from jupyterthemes) (3.0.2)\n",
      "Requirement already satisfied: traitlets in c:\\users\\samsung\\anaconda3\\lib\\site-packages (from jupyter-core->jupyterthemes) (4.3.2)\n",
      "Requirement already satisfied: setuptools>=18.5 in c:\\users\\samsung\\anaconda3\\lib\\site-packages (from ipython>=5.4.1->jupyterthemes) (40.6.3)\n",
      "Requirement already satisfied: pickleshare in c:\\users\\samsung\\anaconda3\\lib\\site-packages (from ipython>=5.4.1->jupyterthemes) (0.7.5)\n",
      "Requirement already satisfied: prompt-toolkit<2.1.0,>=2.0.0 in c:\\users\\samsung\\anaconda3\\lib\\site-packages (from ipython>=5.4.1->jupyterthemes) (2.0.7)\n",
      "Requirement already satisfied: backcall in c:\\users\\samsung\\anaconda3\\lib\\site-packages (from ipython>=5.4.1->jupyterthemes) (0.1.0)\n",
      "Requirement already satisfied: colorama; sys_platform == \"win32\" in c:\\users\\samsung\\anaconda3\\lib\\site-packages (from ipython>=5.4.1->jupyterthemes) (0.4.1)\n",
      "Requirement already satisfied: decorator in c:\\users\\samsung\\anaconda3\\lib\\site-packages (from ipython>=5.4.1->jupyterthemes) (4.3.0)\n",
      "Requirement already satisfied: jedi>=0.10 in c:\\users\\samsung\\anaconda3\\lib\\site-packages (from ipython>=5.4.1->jupyterthemes) (0.13.2)\n",
      "Requirement already satisfied: pygments in c:\\users\\samsung\\anaconda3\\lib\\site-packages (from ipython>=5.4.1->jupyterthemes) (2.3.1)\n",
      "Requirement already satisfied: ply in c:\\users\\samsung\\anaconda3\\lib\\site-packages (from lesscpy>=0.11.2->jupyterthemes) (3.11)\n",
      "Requirement already satisfied: six in c:\\users\\samsung\\anaconda3\\lib\\site-packages (from lesscpy>=0.11.2->jupyterthemes) (1.12.0)\n",
      "Requirement already satisfied: jinja2 in c:\\users\\samsung\\anaconda3\\lib\\site-packages (from notebook>=5.6.0->jupyterthemes) (2.10)\n",
      "Requirement already satisfied: nbconvert in c:\\users\\samsung\\anaconda3\\lib\\site-packages (from notebook>=5.6.0->jupyterthemes) (5.4.0)\n",
      "Requirement already satisfied: ipykernel in c:\\users\\samsung\\anaconda3\\lib\\site-packages (from notebook>=5.6.0->jupyterthemes) (5.1.0)\n",
      "Requirement already satisfied: Send2Trash in c:\\users\\samsung\\anaconda3\\lib\\site-packages (from notebook>=5.6.0->jupyterthemes) (1.5.0)\n",
      "Requirement already satisfied: tornado>=4 in c:\\users\\samsung\\anaconda3\\lib\\site-packages (from notebook>=5.6.0->jupyterthemes) (5.1.1)\n",
      "Requirement already satisfied: terminado>=0.8.1 in c:\\users\\samsung\\anaconda3\\lib\\site-packages (from notebook>=5.6.0->jupyterthemes) (0.8.1)\n",
      "Requirement already satisfied: prometheus-client in c:\\users\\samsung\\anaconda3\\lib\\site-packages (from notebook>=5.6.0->jupyterthemes) (0.5.0)\n",
      "Requirement already satisfied: nbformat in c:\\users\\samsung\\anaconda3\\lib\\site-packages (from notebook>=5.6.0->jupyterthemes) (4.4.0)\n",
      "Requirement already satisfied: jupyter-client>=5.2.0 in c:\\users\\samsung\\anaconda3\\lib\\site-packages (from notebook>=5.6.0->jupyterthemes) (5.2.4)\n",
      "Requirement already satisfied: ipython-genutils in c:\\users\\samsung\\anaconda3\\lib\\site-packages (from notebook>=5.6.0->jupyterthemes) (0.2.0)\n",
      "Requirement already satisfied: pyzmq>=17 in c:\\users\\samsung\\anaconda3\\lib\\site-packages (from notebook>=5.6.0->jupyterthemes) (17.1.2)\n",
      "Requirement already satisfied: numpy>=1.10.0 in c:\\users\\samsung\\anaconda3\\lib\\site-packages (from matplotlib>=1.4.3->jupyterthemes) (1.15.4)\n",
      "Requirement already satisfied: cycler>=0.10 in c:\\users\\samsung\\anaconda3\\lib\\site-packages (from matplotlib>=1.4.3->jupyterthemes) (0.10.0)\n",
      "Requirement already satisfied: kiwisolver>=1.0.1 in c:\\users\\samsung\\anaconda3\\lib\\site-packages (from matplotlib>=1.4.3->jupyterthemes) (1.0.1)\n",
      "Requirement already satisfied: pyparsing!=2.0.4,!=2.1.2,!=2.1.6,>=2.0.1 in c:\\users\\samsung\\anaconda3\\lib\\site-packages (from matplotlib>=1.4.3->jupyterthemes) (2.3.0)\n",
      "Requirement already satisfied: python-dateutil>=2.1 in c:\\users\\samsung\\anaconda3\\lib\\site-packages (from matplotlib>=1.4.3->jupyterthemes) (2.7.5)\n",
      "Requirement already satisfied: wcwidth in c:\\users\\samsung\\anaconda3\\lib\\site-packages (from prompt-toolkit<2.1.0,>=2.0.0->ipython>=5.4.1->jupyterthemes) (0.1.7)\n",
      "Requirement already satisfied: parso>=0.3.0 in c:\\users\\samsung\\anaconda3\\lib\\site-packages (from jedi>=0.10->ipython>=5.4.1->jupyterthemes) (0.3.1)\n",
      "Requirement already satisfied: MarkupSafe>=0.23 in c:\\users\\samsung\\anaconda3\\lib\\site-packages (from jinja2->notebook>=5.6.0->jupyterthemes) (1.1.0)\n",
      "Requirement already satisfied: mistune>=0.8.1 in c:\\users\\samsung\\anaconda3\\lib\\site-packages (from nbconvert->notebook>=5.6.0->jupyterthemes) (0.8.4)\n",
      "Requirement already satisfied: entrypoints>=0.2.2 in c:\\users\\samsung\\anaconda3\\lib\\site-packages (from nbconvert->notebook>=5.6.0->jupyterthemes) (0.2.3)\n",
      "Requirement already satisfied: bleach in c:\\users\\samsung\\anaconda3\\lib\\site-packages (from nbconvert->notebook>=5.6.0->jupyterthemes) (3.0.2)\n",
      "Requirement already satisfied: pandocfilters>=1.4.1 in c:\\users\\samsung\\anaconda3\\lib\\site-packages (from nbconvert->notebook>=5.6.0->jupyterthemes) (1.4.2)\n",
      "Requirement already satisfied: testpath in c:\\users\\samsung\\anaconda3\\lib\\site-packages (from nbconvert->notebook>=5.6.0->jupyterthemes) (0.4.2)\n",
      "Requirement already satisfied: defusedxml in c:\\users\\samsung\\anaconda3\\lib\\site-packages (from nbconvert->notebook>=5.6.0->jupyterthemes) (0.5.0)\n",
      "Requirement already satisfied: jsonschema!=2.5.0,>=2.4 in c:\\users\\samsung\\anaconda3\\lib\\site-packages (from nbformat->notebook>=5.6.0->jupyterthemes) (2.6.0)\n",
      "Requirement already satisfied: webencodings in c:\\users\\samsung\\anaconda3\\lib\\site-packages (from bleach->nbconvert->notebook>=5.6.0->jupyterthemes) (0.5.1)\n",
      "Installing collected packages: lesscpy, jupyterthemes\n",
      "Successfully installed jupyterthemes-0.20.0 lesscpy-0.13.0\n"
     ]
    }
   ],
   "source": [
    "!pip install jupyterthemes"
   ]
  },
  {
   "cell_type": "code",
   "execution_count": 17,
   "metadata": {
    "scrolled": true
   },
   "outputs": [
    {
     "name": "stdout",
     "output_type": "stream",
     "text": [
      "Available Themes: \n",
      "   chesterish\n",
      "   grade3\n",
      "   gruvboxd\n",
      "   gruvboxl\n",
      "   monokai\n",
      "   oceans16\n",
      "   onedork\n",
      "   solarizedd\n",
      "   solarizedl\n"
     ]
    }
   ],
   "source": [
    "!jt -l"
   ]
  },
  {
   "cell_type": "code",
   "execution_count": 19,
   "metadata": {},
   "outputs": [],
   "source": [
    "!jt -t onedork"
   ]
  },
  {
   "cell_type": "code",
   "execution_count": 18,
   "metadata": {},
   "outputs": [
    {
     "name": "stdout",
     "output_type": "stream",
     "text": [
      "<re.Match object; span=(6, 7), match='W'>\n",
      "None\n"
     ]
    }
   ],
   "source": [
    "content = \"Hello World\"\n",
    "\n",
    "print(re.search(\"W\", content))\n",
    "print(re.match(\"W\", content))"
   ]
  },
  {
   "cell_type": "code",
   "execution_count": 20,
   "metadata": {},
   "outputs": [
    {
     "name": "stdout",
     "output_type": "stream",
     "text": [
      "\n",
      "part 800905-*******\n",
      "kim  700905-*******\n",
      "\n"
     ]
    }
   ],
   "source": [
    "data = \"\"\"\n",
    "part 800905-1049118\n",
    "kim  700905-1059119\n",
    "\"\"\"\n",
    "\n",
    "pat = re.compile(\"(\\d{6})[-]\\d{7}\")\n",
    "print(pat.sub(\"\\g<1>-*******\", data))"
   ]
  },
  {
   "cell_type": "code",
   "execution_count": 21,
   "metadata": {},
   "outputs": [
    {
     "name": "stdout",
     "output_type": "stream",
     "text": [
      "<re.Match object; span=(0, 4), match='Crow'>\n"
     ]
    }
   ],
   "source": [
    "p = re.compile('Crow|Servo')\n",
    "m = p.match('CrowHello')\n",
    "print(m)"
   ]
  },
  {
   "cell_type": "code",
   "execution_count": 22,
   "metadata": {},
   "outputs": [
    {
     "name": "stdout",
     "output_type": "stream",
     "text": [
      "<re.Match object; span=(0, 4), match='Life'>\n",
      "None\n"
     ]
    }
   ],
   "source": [
    "print(re.search('^Life', 'Life is too short'))\n",
    "print(re.search('^Life', 'My Life'))"
   ]
  },
  {
   "cell_type": "code",
   "execution_count": 23,
   "metadata": {},
   "outputs": [
    {
     "name": "stdout",
     "output_type": "stream",
     "text": [
      "<re.Match object; span=(12, 17), match='short'>\n",
      "None\n"
     ]
    }
   ],
   "source": [
    "print(re.search('short$', 'Life is too short'))\n",
    "print(re.search('short$', 'Life is too short,you need python'))"
   ]
  },
  {
   "cell_type": "code",
   "execution_count": 24,
   "metadata": {},
   "outputs": [
    {
     "name": "stdout",
     "output_type": "stream",
     "text": [
      "ABCABCABC\n"
     ]
    }
   ],
   "source": [
    "p = re.compile('(ABC)+')\n",
    "m = p.search('ABCABCABC OK?')\n",
    "print(m.group())"
   ]
  },
  {
   "cell_type": "code",
   "execution_count": null,
   "metadata": {},
   "outputs": [],
   "source": [
    "p = re.compile(r')"
   ]
  }
 ],
 "metadata": {
  "kernelspec": {
   "display_name": "Python 3",
   "language": "python",
   "name": "python3"
  }
 },
 "nbformat": 4,
 "nbformat_minor": 2
}
