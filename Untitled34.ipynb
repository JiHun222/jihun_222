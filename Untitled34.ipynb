{
 "cells": [
  {
   "cell_type": "code",
   "execution_count": null,
   "metadata": {},
   "outputs": [],
   "source": [
    "import sqlite3\n",
    "con = sqlite3.connect('news.db')\n",
    "cur = con.cursor()\n",
    "\n",
    "cur.execute(\"\"\"\n",
    "\n",
    "\"\"\")\n",
    "corpus = [_[0] for _ in cur.fetchall()]"
   ]
  },
  {
   "cell_type": "code",
   "execution_count": 1,
   "metadata": {},
   "outputs": [
    {
     "ename": "IndentationError",
     "evalue": "expected an indented block (<ipython-input-1-ee5dffed7162>, line 12)",
     "output_type": "error",
     "traceback": [
      "\u001b[1;36m  File \u001b[1;32m\"<ipython-input-1-ee5dffed7162>\"\u001b[1;36m, line \u001b[1;32m12\u001b[0m\n\u001b[1;33m    kkmaTDM[t][d] += 1\u001b[0m\n\u001b[1;37m          ^\u001b[0m\n\u001b[1;31mIndentationError\u001b[0m\u001b[1;31m:\u001b[0m expected an indented block\n"
     ]
    }
   ],
   "source": [
    "from collections import defaultdict\n",
    "from konlpy.tag import Kkma, Hannanum, Okt\n",
    "\n",
    "pos_tag = Kkma().pos()\n",
    "\n",
    "TDM = defaultdict(lambda:defaultdict(int))\n",
    "\n",
    "for d in corpus:\n",
    "    for t in [_[0] for _ in pos_tag(d)\n",
    "             if _[1].startswith(\"N\") or _[1].startswith(\"V\")\n",
    "             if len(_[0]) > 1]:\n",
    "    kkmaTDM[t][d] += 1\n",
    "# Kkma().target, Hannanum().target"
   ]
  },
  {
   "cell_type": "code",
   "execution_count": 2,
   "metadata": {},
   "outputs": [
    {
     "ename": "NameError",
     "evalue": "name 'Hannanum' is not defined",
     "output_type": "error",
     "traceback": [
      "\u001b[1;31m---------------------------------------------------------------------------\u001b[0m",
      "\u001b[1;31mNameError\u001b[0m                                 Traceback (most recent call last)",
      "\u001b[1;32m<ipython-input-2-0025cf23740c>\u001b[0m in \u001b[0;36m<module>\u001b[1;34m\u001b[0m\n\u001b[1;32m----> 1\u001b[1;33m \u001b[0mpos_tag\u001b[0m \u001b[1;33m=\u001b[0m \u001b[0mHannanum\u001b[0m\u001b[1;33m(\u001b[0m\u001b[1;33m)\u001b[0m\u001b[1;33m.\u001b[0m\u001b[0mpos\u001b[0m\u001b[1;33m\u001b[0m\u001b[1;33m\u001b[0m\u001b[0m\n\u001b[0m\u001b[0;32m      2\u001b[0m \u001b[1;33m\u001b[0m\u001b[0m\n\u001b[0;32m      3\u001b[0m \u001b[0mhanTDM\u001b[0m \u001b[1;33m=\u001b[0m \u001b[0mdefaultdict\u001b[0m\u001b[1;33m(\u001b[0m\u001b[1;32mlambda\u001b[0m\u001b[1;33m:\u001b[0m\u001b[0mdefaultdict\u001b[0m\u001b[1;33m(\u001b[0m\u001b[0mint\u001b[0m\u001b[1;33m)\u001b[0m\u001b[1;33m)\u001b[0m\u001b[1;33m\u001b[0m\u001b[1;33m\u001b[0m\u001b[0m\n\u001b[0;32m      4\u001b[0m \u001b[1;33m\u001b[0m\u001b[0m\n\u001b[0;32m      5\u001b[0m \u001b[1;32mfor\u001b[0m \u001b[0md\u001b[0m \u001b[1;32min\u001b[0m \u001b[0mcorpus\u001b[0m\u001b[1;33m:\u001b[0m\u001b[1;33m\u001b[0m\u001b[1;33m\u001b[0m\u001b[0m\n",
      "\u001b[1;31mNameError\u001b[0m: name 'Hannanum' is not defined"
     ]
    }
   ],
   "source": [
    "pos_tag = Hannanum().pos\n",
    "\n",
    "hanTDM = defaultdict(lambda:defaultdict(int))\n",
    "\n",
    "for d in corpus:\n",
    "    for t in [_[0] for _ in pos_tag(d)\n",
    "             if _[1] in [\"N\", \"P\"]\n",
    "             if len(_[0]) > 1]:\n",
    "        hanTDM[t][d] += 1\n",
    "\n"
   ]
  },
  {
   "cell_type": "code",
   "execution_count": null,
   "metadata": {},
   "outputs": [],
   "source": [
    "sorted([{t:len(docList)} for t, docList in kkmaTDM.items()],\n",
    "      key = lambda x : sum(x.values()), reverse=True)\n",
    "\n",
    "[\"규제\", \"일본\", \"비판\"]"
   ]
  }
 ],
 "metadata": {
  "kernelspec": {
   "display_name": "Python 3",
   "language": "python",
   "name": "python3"
  },
  "language_info": {
   "codemirror_mode": {
    "name": "ipython",
    "version": 3
   },
   "file_extension": ".py",
   "mimetype": "text/x-python",
   "name": "python",
   "nbconvert_exporter": "python",
   "pygments_lexer": "ipython3",
   "version": "3.7.3"
  }
 },
 "nbformat": 4,
 "nbformat_minor": 2
}
